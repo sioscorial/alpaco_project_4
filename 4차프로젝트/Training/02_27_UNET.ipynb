{
  "cells": [
    {
      "cell_type": "code",
      "execution_count": 4,
      "metadata": {},
      "outputs": [],
      "source": [
        "import os\n",
        "from PIL import Image\n",
        "import numpy as np\n",
        "import matplotlib.pyplot as plt\n",
        "from tqdm import tqdm\n",
        "import random\n",
        "import shutil\n",
        "import pickle\n",
        "\n",
        "import tensorflow as tf\n",
        "from tensorflow import keras\n",
        "from tensorflow.keras import layers"
      ]
    },
    {
      "cell_type": "markdown",
      "metadata": {
        "id": "jcvh7b_nS8Jx"
      },
      "source": [
        "# implementing  custom U-net"
      ]
    },
    {
      "cell_type": "markdown",
      "metadata": {
        "id": "-b7OL_Iz4mWT"
      },
      "source": [
        "### standard U-Net 구현"
      ]
    },
    {
      "cell_type": "markdown",
      "metadata": {
        "id": "Kxmh3KDwBuEF"
      },
      "source": [
        "- 주요 함수 :  \n",
        "1. layers.Cropping2D(cropping=((top_crop, bottom_crop), (left_crop, right_crop)))  \n",
        "2. upconv_block(inputs, filters, kernel_size=2):  \n",
        "    x = layers.UpSampling2D(size=(2, 2))(inputs)  \n",
        "    x = layers.Conv2D(filters, kernel_size, activation='relu', padding='same')(x)\n"
      ]
    },
    {
      "cell_type": "markdown",
      "metadata": {},
      "source": [
        "## Function"
      ]
    },
    {
      "cell_type": "code",
      "execution_count": null,
      "metadata": {},
      "outputs": [],
      "source": [
        "Index2Label = {0: 'Background', \n",
        "               1: 'Head', \n",
        "               2: 'Torso', \n",
        "               3: 'Upper_Arms', \n",
        "               4: 'Lower_Arms', \n",
        "               5: 'Upper_Legs', \n",
        "               6: 'Lower_Legs'}\n",
        "\n",
        "Label2Index = {'Background': 0, \n",
        "               'Head': 1, \n",
        "               'Torso': 2, \n",
        "               'Upper_Arms': 3, \n",
        "               'Lower_Arms': 4, \n",
        "               'Upper_Legs': 5, \n",
        "               'Lower_Legs': 6}\n",
        "\n",
        "# Label2Index = {v: k for k, v in Index2Label.items()}"
      ]
    },
    {
      "cell_type": "code",
      "execution_count": 3,
      "metadata": {},
      "outputs": [],
      "source": [
        "def create_images_path(folder_path):\n",
        "    folder_path = folder_path\n",
        "    imges = os.listdir(folder_path)\n",
        "    images_path = [os.path.join(folder_path, img) for img in imges]\n",
        "    return images_path"
      ]
    },
    {
      "cell_type": "code",
      "execution_count": 7,
      "metadata": {},
      "outputs": [],
      "source": [
        "def visualize_images(images_path, visualize=1, rotate=0): # Outputs\\\\01_01_F010_02.png, rotate 회전각 입력\n",
        "    # Output\n",
        "    images_names = []\n",
        "    images_array = []\n",
        "    \n",
        "    for img in tqdm(images_path, desc=\"Processing images\"):\n",
        "        image_path = img\n",
        "        image_name = os.path.basename(image_path)\n",
        "\n",
        "        image = Image.open(image_path)\n",
        "\n",
        "        # 이미지 회전 메타데이터를 자동으로 해석하여 회전시킴\n",
        "        image = image.rotate(rotate, expand=True)  # 0은 회전 각도, expand=True는 이미지 크기 조정 (0 / 270)\n",
        "\n",
        "        images_names.append(image_name)\n",
        "        image_array = np.array(image)\n",
        "        images_array.append(image_array)\n",
        "\n",
        "        # Visualize Images -------------------> Option(On/Off)\n",
        "        if visualize:\n",
        "            \n",
        "            print(\"Size of Image:\", image.size)\n",
        "            print(\"Mode of Image:\", image.mode) # (RGB/L/P)\n",
        "            \n",
        "            # print(\"Shape of Image (Numpy ):\", )\n",
        "            \n",
        "            \n",
        "            plt.imshow(image)\n",
        "            plt.title(f'{image_name}')\n",
        "            plt.axis('off')  # 축 제거\n",
        "            plt.show()\n",
        "    else:\n",
        "        pass\n",
        "\n",
        "    return images_names, images_array"
      ]
    },
    {
      "cell_type": "code",
      "execution_count": null,
      "metadata": {},
      "outputs": [],
      "source": [
        "def palette_to_one_hot(palette_image_path, num_classes=7, imge_info=True, visualize=True):\n",
        "    \"\"\"\n",
        "    팔레트 이미지를 원핫인코딩하여 (2940, 1960, 7) 형태의 이미지로 변환하는 함수\n",
        "\n",
        "    Args:\n",
        "    palette_image_path (str): 세그멘테이션된 P 모드의 PIL 팔레트 이미지 경로\n",
        "\n",
        "    Returns:\n",
        "    np.ndarray: 원핫인코딩된 이미지\n",
        "    \"\"\"\n",
        "    # 클래스 수 정의 (배경 포함 1개)\n",
        "    num_classes = num_classes\n",
        "\n",
        "    # PIL 2 Numpy\n",
        "    palette_image = Image.open(palette_image_path)\n",
        "    palette_image_array = np.array(palette_image)\n",
        "\n",
        "    # 원핫인코딩된 이미지를 저장할 배열 생성\n",
        "    one_hot_encoded_image = np.zeros((*palette_image_array.shape, num_classes), dtype=np.uint8)\n",
        "\n",
        "    # 각 픽셀을 원핫인코딩된 형태로 변환\n",
        "    for i in range(palette_image_array.shape[0]): # 2940\n",
        "        for j in range(palette_image_array.shape[1]): # 1960\n",
        "            pixel_value = palette_image_array[i, j]  # 현재 픽셀의 값\n",
        "            one_hot_encoded_image[i, j, pixel_value] = 1  # 해당 클래스에 대응하는 채널에 1 할당\n",
        "\n",
        "    if imge_info:\n",
        "        # 이미지 이름 출력\n",
        "        image_name = os.path.basename(palette_image_path)\n",
        "        print(\"Image Name:\", image_name)\n",
        "        print(\"Original Image Shape:\", palette_image_array.shape)\n",
        "        print(\"Transformed Image Shape:\", one_hot_encoded_image.shape)\n",
        "        print()\n",
        "        \n",
        "    if visualize:\n",
        "        visualize_one_hot_encoded_image(one_hot_encoded_image,  Index2Label=Index2Label)\n",
        "        \n",
        "    return one_hot_encoded_image"
      ]
    },
    {
      "cell_type": "code",
      "execution_count": null,
      "metadata": {},
      "outputs": [],
      "source": [
        "def visualize_one_hot_encoded_image(one_hot_encoded_image, Index2Label=Index2Label):\n",
        "    \"\"\"\n",
        "    원핫인코딩된 이미지를 시각화하고 클래스별로 따로 시각화하여 보여주는 함수\n",
        "\n",
        "    Args:\n",
        "    one_hot_encoded_image (np.ndarray): 원핫인코딩된 이미지\n",
        "\n",
        "    Returns:\n",
        "    None\n",
        "    \"\"\"\n",
        "    # 이미지의 형태 출력\n",
        "    print(\"Transformed Image Shape:\", one_hot_encoded_image.shape)\n",
        "\n",
        "    # 전체 이미지 시각화\n",
        "    plt.figure(figsize=(8, 8))\n",
        "    plt.imshow(one_hot_encoded_image.argmax(axis=2), cmap='viridis', interpolation='nearest')\n",
        "    plt.title('Original Palette Image')\n",
        "    plt.axis('off')\n",
        "    plt.show()\n",
        "\n",
        "    # 클래스별로 따로 시각화\n",
        "    num_classes = one_hot_encoded_image.shape[2]\n",
        "    for class_index in range(num_classes):\n",
        "        class_image = one_hot_encoded_image[:, :, class_index]\n",
        "        plt.figure(figsize=(8, 8))\n",
        "        plt.imshow(class_image, cmap='gray')\n",
        "        plt.title(f'Class: {class_index} {Index2Label[class_index]}')\n",
        "        plt.axis('off')\n",
        "        plt.show()"
      ]
    },
    {
      "cell_type": "code",
      "execution_count": null,
      "metadata": {},
      "outputs": [],
      "source": [
        "def save_images_pkl_with_one_hot_encoding(images_paths, output_folder_path, num_classes=7, imge_info=True, visualize=False):\n",
        "    \"\"\"\n",
        "    이미지를 원핫인코딩하여 새로운 폴더에 저장하는 함수\n",
        "\n",
        "    Args:\n",
        "    images_paths (list): 이미지 파일 경로의 리스트\n",
        "    output_folder_path (str): 이미지를 저장할 폴더 이름(현재 경로에 저장)\n",
        "    num_classes (int): segmentation 세그멘테이션 클래스 개수(배경 포함)\n",
        "    imge_info (bool): 이미지 정보 출력 토글(default: True)\n",
        "    visualize (bool): 이미지 시각화 토글(default: False)\n",
        "\n",
        "    Returns:\n",
        "    None\n",
        "    \"\"\"\n",
        "    # 새로운 폴더 생성\n",
        "    os.makedirs(output_folder_path, exist_ok=True)\n",
        "    \n",
        "    # one_hot_encoded_images\n",
        "    one_hot_encoded_images = []\n",
        "\n",
        "    # 원핫 인코딩 수행\n",
        "    for img_path in tqdm(images_paths, desc='Encoding images'):\n",
        "        \n",
        "        # PIL Pallete 2 Numpy\n",
        "        one_hot_encoded_image = palette_to_one_hot(img_path, num_classes=num_classes, imge_info=imge_info, visualize=visualize)\n",
        "        one_hot_encoded_images.append(one_hot_encoded_image)\n",
        "        \n",
        "    # 저장할 경로 설정\n",
        "    save_path = os.path.join(output_folder_path, f\"one_hot_encoded_images_array.pkl\") \n",
        "        \n",
        "    # 이미지 데이터를 피클로 저장\n",
        "    with open(save_path, 'wb') as f:\n",
        "        pickle.dump(one_hot_encoded_images, f)"
      ]
    },
    {
      "cell_type": "markdown",
      "metadata": {},
      "source": [
        "# Task"
      ]
    },
    {
      "cell_type": "code",
      "execution_count": 5,
      "metadata": {},
      "outputs": [
        {
          "name": "stdout",
          "output_type": "stream",
          "text": [
            "Number of images: 10\n",
            "Shape of each image: (2940, 1960, 7)\n",
            "<class 'list'>\n",
            "<class 'numpy.ndarray'>\n"
          ]
        }
      ],
      "source": [
        "# 피클 파일 경로\n",
        "pickle_file_path = \"one_hot_encoded_images_array.pkl\"\n",
        "\n",
        "# 피클 파일 불러오기\n",
        "with open(pickle_file_path, 'rb') as f:\n",
        "    one_hot_encoded_images = pickle.load(f)\n",
        "\n",
        "# 저장된 데이터 확인\n",
        "print(\"Number of images:\", len(one_hot_encoded_images))\n",
        "print(\"Shape of each image:\", one_hot_encoded_images[0].shape)\n",
        "\n",
        "print(type(one_hot_encoded_images))\n",
        "print(type(one_hot_encoded_images[0]))"
      ]
    },
    {
      "cell_type": "code",
      "execution_count": 4,
      "metadata": {},
      "outputs": [
        {
          "data": {
            "text/plain": [
              "['test_orgin_images\\\\01_00_F001_01.jpg',\n",
              " 'test_orgin_images\\\\01_00_F002_01.jpg',\n",
              " 'test_orgin_images\\\\01_00_F003_01.jpg',\n",
              " 'test_orgin_images\\\\01_00_M002_01.jpg',\n",
              " 'test_orgin_images\\\\01_01_F001_01.jpg',\n",
              " 'test_orgin_images\\\\01_01_F002_01.jpg',\n",
              " 'test_orgin_images\\\\01_01_F003_01.jpg',\n",
              " 'test_orgin_images\\\\01_01_F004_01.jpg',\n",
              " 'test_orgin_images\\\\01_01_F017_01.jpg',\n",
              " 'test_orgin_images\\\\01_01_F018_01.jpg']"
            ]
          },
          "execution_count": 4,
          "metadata": {},
          "output_type": "execute_result"
        }
      ],
      "source": [
        "origin_images_path = create_images_path(\"test_orgin_images\")\n",
        "origin_images_path"
      ]
    },
    {
      "cell_type": "code",
      "execution_count": null,
      "metadata": {},
      "outputs": [],
      "source": [
        "imges_name, imges_array = visualize_images(origin_images_path, visualize=True, rotate=270)"
      ]
    },
    {
      "cell_type": "code",
      "execution_count": 9,
      "metadata": {},
      "outputs": [
        {
          "data": {
            "text/plain": [
              "['01_00_F001_01.jpg',\n",
              " '01_00_F002_01.jpg',\n",
              " '01_00_F003_01.jpg',\n",
              " '01_00_M002_01.jpg',\n",
              " '01_01_F001_01.jpg',\n",
              " '01_01_F002_01.jpg',\n",
              " '01_01_F003_01.jpg',\n",
              " '01_01_F004_01.jpg',\n",
              " '01_01_F017_01.jpg',\n",
              " '01_01_F018_01.jpg']"
            ]
          },
          "execution_count": 9,
          "metadata": {},
          "output_type": "execute_result"
        }
      ],
      "source": [
        "imges_name"
      ]
    },
    {
      "cell_type": "code",
      "execution_count": null,
      "metadata": {},
      "outputs": [],
      "source": [
        "# 이미지 리사이즈 및 패딩 적용\n",
        "# resized_image = tf.image.resize_with_pad(image_tensor, target_height, target_width)"
      ]
    },
    {
      "cell_type": "code",
      "execution_count": 11,
      "metadata": {},
      "outputs": [
        {
          "data": {
            "text/plain": [
              "(10, 512, 512, 3)"
            ]
          },
          "execution_count": 11,
          "metadata": {},
          "output_type": "execute_result"
        }
      ],
      "source": [
        "X = []\n",
        "\n",
        "for image_array in imges_array:\n",
        "    resized_array = resized_padded_image = tf.image.resize_with_pad(image_array, target_height=512, target_width=512).numpy()\n",
        "    X.append(resized_array)\n",
        "    \n",
        "X = np.array(X)\n",
        "X.shape"
      ]
    },
    {
      "cell_type": "code",
      "execution_count": 12,
      "metadata": {},
      "outputs": [
        {
          "data": {
            "text/plain": [
              "(10, 512, 512, 7)"
            ]
          },
          "execution_count": 12,
          "metadata": {},
          "output_type": "execute_result"
        }
      ],
      "source": [
        "y = []\n",
        "\n",
        "for seg_array in one_hot_encoded_images:\n",
        "    resized_array = resized_padded_image = tf.image.resize_with_pad(seg_array, target_height=512, target_width=512).numpy()\n",
        "    y.append(resized_array)\n",
        "    \n",
        "y = np.array(y)\n",
        "y.shape"
      ]
    },
    {
      "cell_type": "code",
      "execution_count": 13,
      "metadata": {},
      "outputs": [
        {
          "name": "stdout",
          "output_type": "stream",
          "text": [
            "<class 'numpy.ndarray'> <class 'numpy.ndarray'>\n",
            "(10, 512, 512, 3) (10, 512, 512, 7)\n"
          ]
        }
      ],
      "source": [
        "print(type(X), type(y))\n",
        "print(X.shape, y.shape)"
      ]
    },
    {
      "cell_type": "code",
      "execution_count": 16,
      "metadata": {},
      "outputs": [],
      "source": [
        "import tensorflow as tf\n",
        "from tensorflow.keras import layers\n",
        "\n",
        "def conv_block(inputs, filters, kernel_size=3):\n",
        "    x = layers.Conv2D(filters, kernel_size, activation='relu', padding='same')(inputs)\n",
        "    x = layers.Conv2D(filters, kernel_size, activation='relu', padding='same')(x)\n",
        "    return x\n",
        "\n",
        "def upconv_block(inputs, filters, kernel_size=2):\n",
        "    x = layers.UpSampling2D(size=(2, 2))(inputs)\n",
        "    x = layers.Conv2D(filters, kernel_size, activation='relu', padding='same')(x)\n",
        "    return x\n",
        "\n",
        "def unet(img_size, num_classes):\n",
        "    inputs = tf.keras.Input(shape=img_size + (3,))\n",
        "\n",
        "    # Contracting Path\n",
        "    c1 = conv_block(inputs, 64, kernel_size=3)\n",
        "    p1 = layers.MaxPooling2D(pool_size=(2, 2))(c1)\n",
        "\n",
        "    c2 = conv_block(p1, 128, kernel_size=3)\n",
        "    p2 = layers.MaxPooling2D(pool_size=(2, 2))(c2)\n",
        "\n",
        "    c3 = conv_block(p2, 256, kernel_size=3)\n",
        "    p3 = layers.MaxPooling2D(pool_size=(2, 2))(c3)\n",
        "\n",
        "    c4 = conv_block(p3, 512, kernel_size=3)\n",
        "    p4 = layers.MaxPooling2D(pool_size=(2, 2))(c4)\n",
        "\n",
        "    # Bottom\n",
        "    b = conv_block(p4, 1024, kernel_size=3)\n",
        "\n",
        "    # Expanding Path\n",
        "    u1 = upconv_block(b, 512, kernel_size=2)\n",
        "    u1_concat = layers.Concatenate()([u1, c4])\n",
        "    c5 = conv_block(u1_concat, 512, kernel_size=3)\n",
        "\n",
        "    u2 = upconv_block(c5, 256, kernel_size=2)\n",
        "    u2_concat = layers.Concatenate()([u2, c3])\n",
        "    c6 = conv_block(u2_concat, 256, kernel_size=3)\n",
        "\n",
        "    u3 = upconv_block(c6, 128, kernel_size=2)\n",
        "    u3_concat = layers.Concatenate()([u3, c2])\n",
        "    c7 = conv_block(u3_concat, 128, kernel_size=3)\n",
        "\n",
        "    u4 = upconv_block(c7, 64, kernel_size=2)\n",
        "    u4_concat = layers.Concatenate()([u4, c1])\n",
        "    c8 = conv_block(u4_concat, 64, kernel_size=3)\n",
        "\n",
        "    outputs = layers.Conv2D(num_classes, 1, activation='softmax')(c8)\n",
        "\n",
        "    return tf.keras.Model(inputs, outputs)\n",
        "\n",
        "# Clearing previous sessions\n",
        "# tf.keras.backend.clear_session()\n",
        "\n",
        "# Defining input image size and number of classes\n",
        "img_size = (512, 512)\n",
        "num_classes = 7\n"
      ]
    },
    {
      "cell_type": "code",
      "execution_count": 17,
      "metadata": {},
      "outputs": [
        {
          "name": "stdout",
          "output_type": "stream",
          "text": [
            "Model: \"model\"\n",
            "__________________________________________________________________________________________________\n",
            " Layer (type)                   Output Shape         Param #     Connected to                     \n",
            "==================================================================================================\n",
            " input_1 (InputLayer)           [(None, 512, 512, 3  0           []                               \n",
            "                                )]                                                                \n",
            "                                                                                                  \n",
            " conv2d (Conv2D)                (None, 512, 512, 64  1792        ['input_1[0][0]']                \n",
            "                                )                                                                 \n",
            "                                                                                                  \n",
            " conv2d_1 (Conv2D)              (None, 512, 512, 64  36928       ['conv2d[0][0]']                 \n",
            "                                )                                                                 \n",
            "                                                                                                  \n",
            " max_pooling2d (MaxPooling2D)   (None, 256, 256, 64  0           ['conv2d_1[0][0]']               \n",
            "                                )                                                                 \n",
            "                                                                                                  \n",
            " conv2d_2 (Conv2D)              (None, 256, 256, 12  73856       ['max_pooling2d[0][0]']          \n",
            "                                8)                                                                \n",
            "                                                                                                  \n",
            " conv2d_3 (Conv2D)              (None, 256, 256, 12  147584      ['conv2d_2[0][0]']               \n",
            "                                8)                                                                \n",
            "                                                                                                  \n",
            " max_pooling2d_1 (MaxPooling2D)  (None, 128, 128, 12  0          ['conv2d_3[0][0]']               \n",
            "                                8)                                                                \n",
            "                                                                                                  \n",
            " conv2d_4 (Conv2D)              (None, 128, 128, 25  295168      ['max_pooling2d_1[0][0]']        \n",
            "                                6)                                                                \n",
            "                                                                                                  \n",
            " conv2d_5 (Conv2D)              (None, 128, 128, 25  590080      ['conv2d_4[0][0]']               \n",
            "                                6)                                                                \n",
            "                                                                                                  \n",
            " max_pooling2d_2 (MaxPooling2D)  (None, 64, 64, 256)  0          ['conv2d_5[0][0]']               \n",
            "                                                                                                  \n",
            " conv2d_6 (Conv2D)              (None, 64, 64, 512)  1180160     ['max_pooling2d_2[0][0]']        \n",
            "                                                                                                  \n",
            " conv2d_7 (Conv2D)              (None, 64, 64, 512)  2359808     ['conv2d_6[0][0]']               \n",
            "                                                                                                  \n",
            " max_pooling2d_3 (MaxPooling2D)  (None, 32, 32, 512)  0          ['conv2d_7[0][0]']               \n",
            "                                                                                                  \n",
            " conv2d_8 (Conv2D)              (None, 32, 32, 1024  4719616     ['max_pooling2d_3[0][0]']        \n",
            "                                )                                                                 \n",
            "                                                                                                  \n",
            " conv2d_9 (Conv2D)              (None, 32, 32, 1024  9438208     ['conv2d_8[0][0]']               \n",
            "                                )                                                                 \n",
            "                                                                                                  \n",
            " up_sampling2d (UpSampling2D)   (None, 64, 64, 1024  0           ['conv2d_9[0][0]']               \n",
            "                                )                                                                 \n",
            "                                                                                                  \n",
            " conv2d_10 (Conv2D)             (None, 64, 64, 512)  2097664     ['up_sampling2d[0][0]']          \n",
            "                                                                                                  \n",
            " concatenate (Concatenate)      (None, 64, 64, 1024  0           ['conv2d_10[0][0]',              \n",
            "                                )                                 'conv2d_7[0][0]']               \n",
            "                                                                                                  \n",
            " conv2d_11 (Conv2D)             (None, 64, 64, 512)  4719104     ['concatenate[0][0]']            \n",
            "                                                                                                  \n",
            " conv2d_12 (Conv2D)             (None, 64, 64, 512)  2359808     ['conv2d_11[0][0]']              \n",
            "                                                                                                  \n",
            " up_sampling2d_1 (UpSampling2D)  (None, 128, 128, 51  0          ['conv2d_12[0][0]']              \n",
            "                                2)                                                                \n",
            "                                                                                                  \n",
            " conv2d_13 (Conv2D)             (None, 128, 128, 25  524544      ['up_sampling2d_1[0][0]']        \n",
            "                                6)                                                                \n",
            "                                                                                                  \n",
            " concatenate_1 (Concatenate)    (None, 128, 128, 51  0           ['conv2d_13[0][0]',              \n",
            "                                2)                                'conv2d_5[0][0]']               \n",
            "                                                                                                  \n",
            " conv2d_14 (Conv2D)             (None, 128, 128, 25  1179904     ['concatenate_1[0][0]']          \n",
            "                                6)                                                                \n",
            "                                                                                                  \n",
            " conv2d_15 (Conv2D)             (None, 128, 128, 25  590080      ['conv2d_14[0][0]']              \n",
            "                                6)                                                                \n",
            "                                                                                                  \n",
            " up_sampling2d_2 (UpSampling2D)  (None, 256, 256, 25  0          ['conv2d_15[0][0]']              \n",
            "                                6)                                                                \n",
            "                                                                                                  \n",
            " conv2d_16 (Conv2D)             (None, 256, 256, 12  131200      ['up_sampling2d_2[0][0]']        \n",
            "                                8)                                                                \n",
            "                                                                                                  \n",
            " concatenate_2 (Concatenate)    (None, 256, 256, 25  0           ['conv2d_16[0][0]',              \n",
            "                                6)                                'conv2d_3[0][0]']               \n",
            "                                                                                                  \n",
            " conv2d_17 (Conv2D)             (None, 256, 256, 12  295040      ['concatenate_2[0][0]']          \n",
            "                                8)                                                                \n",
            "                                                                                                  \n",
            " conv2d_18 (Conv2D)             (None, 256, 256, 12  147584      ['conv2d_17[0][0]']              \n",
            "                                8)                                                                \n",
            "                                                                                                  \n",
            " up_sampling2d_3 (UpSampling2D)  (None, 512, 512, 12  0          ['conv2d_18[0][0]']              \n",
            "                                8)                                                                \n",
            "                                                                                                  \n",
            " conv2d_19 (Conv2D)             (None, 512, 512, 64  32832       ['up_sampling2d_3[0][0]']        \n",
            "                                )                                                                 \n",
            "                                                                                                  \n",
            " concatenate_3 (Concatenate)    (None, 512, 512, 12  0           ['conv2d_19[0][0]',              \n",
            "                                8)                                'conv2d_1[0][0]']               \n",
            "                                                                                                  \n",
            " conv2d_20 (Conv2D)             (None, 512, 512, 64  73792       ['concatenate_3[0][0]']          \n",
            "                                )                                                                 \n",
            "                                                                                                  \n",
            " conv2d_21 (Conv2D)             (None, 512, 512, 64  36928       ['conv2d_20[0][0]']              \n",
            "                                )                                                                 \n",
            "                                                                                                  \n",
            " conv2d_22 (Conv2D)             (None, 512, 512, 7)  455         ['conv2d_21[0][0]']              \n",
            "                                                                                                  \n",
            "==================================================================================================\n",
            "Total params: 31,032,135\n",
            "Trainable params: 31,032,135\n",
            "Non-trainable params: 0\n",
            "__________________________________________________________________________________________________\n"
          ]
        }
      ],
      "source": [
        "# tf.keras.backend.clear_session()\n",
        "\n",
        "model = unet(img_size, num_classes)\n",
        "\n",
        "model.compile(optimizer='adam', loss='categorical_crossentropy', metrics=['accuracy'])\n",
        "model.summary()"
      ]
    },
    {
      "cell_type": "code",
      "execution_count": 18,
      "metadata": {},
      "outputs": [
        {
          "data": {
            "text/plain": [
              "((10, 512, 512, 3), (10, 512, 512, 7))"
            ]
          },
          "execution_count": 18,
          "metadata": {},
          "output_type": "execute_result"
        }
      ],
      "source": [
        "# X = X[:2]\n",
        "# y = y[:2]\n",
        "X.shape, y.shape"
      ]
    },
    {
      "cell_type": "code",
      "execution_count": 59,
      "metadata": {},
      "outputs": [
        {
          "ename": "ResourceExhaustedError",
          "evalue": "Graph execution error:\n\nDetected at node 'model/conv2d_16/Relu' defined at (most recent call last):\n    File \"c:\\Users\\JAY\\anaconda3\\envs\\TF_GPU_RTX\\lib\\runpy.py\", line 194, in _run_module_as_main\n      return _run_code(code, main_globals, None,\n    File \"c:\\Users\\JAY\\anaconda3\\envs\\TF_GPU_RTX\\lib\\runpy.py\", line 87, in _run_code\n      exec(code, run_globals)\n    File \"c:\\Users\\JAY\\anaconda3\\envs\\TF_GPU_RTX\\lib\\site-packages\\ipykernel_launcher.py\", line 17, in <module>\n      app.launch_new_instance()\n    File \"c:\\Users\\JAY\\anaconda3\\envs\\TF_GPU_RTX\\lib\\site-packages\\traitlets\\config\\application.py\", line 1075, in launch_instance\n      app.start()\n    File \"c:\\Users\\JAY\\anaconda3\\envs\\TF_GPU_RTX\\lib\\site-packages\\ipykernel\\kernelapp.py\", line 701, in start\n      self.io_loop.start()\n    File \"c:\\Users\\JAY\\anaconda3\\envs\\TF_GPU_RTX\\lib\\site-packages\\tornado\\platform\\asyncio.py\", line 215, in start\n      self.asyncio_loop.run_forever()\n    File \"c:\\Users\\JAY\\anaconda3\\envs\\TF_GPU_RTX\\lib\\asyncio\\windows_events.py\", line 316, in run_forever\n      super().run_forever()\n    File \"c:\\Users\\JAY\\anaconda3\\envs\\TF_GPU_RTX\\lib\\asyncio\\base_events.py\", line 570, in run_forever\n      self._run_once()\n    File \"c:\\Users\\JAY\\anaconda3\\envs\\TF_GPU_RTX\\lib\\asyncio\\base_events.py\", line 1859, in _run_once\n      handle._run()\n    File \"c:\\Users\\JAY\\anaconda3\\envs\\TF_GPU_RTX\\lib\\asyncio\\events.py\", line 81, in _run\n      self._context.run(self._callback, *self._args)\n    File \"c:\\Users\\JAY\\anaconda3\\envs\\TF_GPU_RTX\\lib\\site-packages\\ipykernel\\kernelbase.py\", line 534, in dispatch_queue\n      await self.process_one()\n    File \"c:\\Users\\JAY\\anaconda3\\envs\\TF_GPU_RTX\\lib\\site-packages\\ipykernel\\kernelbase.py\", line 523, in process_one\n      await dispatch(*args)\n    File \"c:\\Users\\JAY\\anaconda3\\envs\\TF_GPU_RTX\\lib\\site-packages\\ipykernel\\kernelbase.py\", line 429, in dispatch_shell\n      await result\n    File \"c:\\Users\\JAY\\anaconda3\\envs\\TF_GPU_RTX\\lib\\site-packages\\ipykernel\\kernelbase.py\", line 767, in execute_request\n      reply_content = await reply_content\n    File \"c:\\Users\\JAY\\anaconda3\\envs\\TF_GPU_RTX\\lib\\site-packages\\ipykernel\\ipkernel.py\", line 429, in do_execute\n      res = shell.run_cell(\n    File \"c:\\Users\\JAY\\anaconda3\\envs\\TF_GPU_RTX\\lib\\site-packages\\ipykernel\\zmqshell.py\", line 549, in run_cell\n      return super().run_cell(*args, **kwargs)\n    File \"c:\\Users\\JAY\\anaconda3\\envs\\TF_GPU_RTX\\lib\\site-packages\\IPython\\core\\interactiveshell.py\", line 3006, in run_cell\n      result = self._run_cell(\n    File \"c:\\Users\\JAY\\anaconda3\\envs\\TF_GPU_RTX\\lib\\site-packages\\IPython\\core\\interactiveshell.py\", line 3061, in _run_cell\n      result = runner(coro)\n    File \"c:\\Users\\JAY\\anaconda3\\envs\\TF_GPU_RTX\\lib\\site-packages\\IPython\\core\\async_helpers.py\", line 129, in _pseudo_sync_runner\n      coro.send(None)\n    File \"c:\\Users\\JAY\\anaconda3\\envs\\TF_GPU_RTX\\lib\\site-packages\\IPython\\core\\interactiveshell.py\", line 3266, in run_cell_async\n      has_raised = await self.run_ast_nodes(code_ast.body, cell_name,\n    File \"c:\\Users\\JAY\\anaconda3\\envs\\TF_GPU_RTX\\lib\\site-packages\\IPython\\core\\interactiveshell.py\", line 3445, in run_ast_nodes\n      if await self.run_code(code, result, async_=asy):\n    File \"c:\\Users\\JAY\\anaconda3\\envs\\TF_GPU_RTX\\lib\\site-packages\\IPython\\core\\interactiveshell.py\", line 3505, in run_code\n      exec(code_obj, self.user_global_ns, self.user_ns)\n    File \"C:\\Users\\JAY\\AppData\\Local\\Temp\\ipykernel_29708\\1317976882.py\", line 1, in <module>\n      hist = model.fit(X, y)\n    File \"c:\\Users\\JAY\\anaconda3\\envs\\TF_GPU_RTX\\lib\\site-packages\\keras\\utils\\traceback_utils.py\", line 65, in error_handler\n      return fn(*args, **kwargs)\n    File \"c:\\Users\\JAY\\anaconda3\\envs\\TF_GPU_RTX\\lib\\site-packages\\keras\\engine\\training.py\", line 1564, in fit\n      tmp_logs = self.train_function(iterator)\n    File \"c:\\Users\\JAY\\anaconda3\\envs\\TF_GPU_RTX\\lib\\site-packages\\keras\\engine\\training.py\", line 1160, in train_function\n      return step_function(self, iterator)\n    File \"c:\\Users\\JAY\\anaconda3\\envs\\TF_GPU_RTX\\lib\\site-packages\\keras\\engine\\training.py\", line 1146, in step_function\n      outputs = model.distribute_strategy.run(run_step, args=(data,))\n    File \"c:\\Users\\JAY\\anaconda3\\envs\\TF_GPU_RTX\\lib\\site-packages\\keras\\engine\\training.py\", line 1135, in run_step\n      outputs = model.train_step(data)\n    File \"c:\\Users\\JAY\\anaconda3\\envs\\TF_GPU_RTX\\lib\\site-packages\\keras\\engine\\training.py\", line 993, in train_step\n      y_pred = self(x, training=True)\n    File \"c:\\Users\\JAY\\anaconda3\\envs\\TF_GPU_RTX\\lib\\site-packages\\keras\\utils\\traceback_utils.py\", line 65, in error_handler\n      return fn(*args, **kwargs)\n    File \"c:\\Users\\JAY\\anaconda3\\envs\\TF_GPU_RTX\\lib\\site-packages\\keras\\engine\\training.py\", line 557, in __call__\n      return super().__call__(*args, **kwargs)\n    File \"c:\\Users\\JAY\\anaconda3\\envs\\TF_GPU_RTX\\lib\\site-packages\\keras\\utils\\traceback_utils.py\", line 65, in error_handler\n      return fn(*args, **kwargs)\n    File \"c:\\Users\\JAY\\anaconda3\\envs\\TF_GPU_RTX\\lib\\site-packages\\keras\\engine\\base_layer.py\", line 1097, in __call__\n      outputs = call_fn(inputs, *args, **kwargs)\n    File \"c:\\Users\\JAY\\anaconda3\\envs\\TF_GPU_RTX\\lib\\site-packages\\keras\\utils\\traceback_utils.py\", line 96, in error_handler\n      return fn(*args, **kwargs)\n    File \"c:\\Users\\JAY\\anaconda3\\envs\\TF_GPU_RTX\\lib\\site-packages\\keras\\engine\\functional.py\", line 510, in call\n      return self._run_internal_graph(inputs, training=training, mask=mask)\n    File \"c:\\Users\\JAY\\anaconda3\\envs\\TF_GPU_RTX\\lib\\site-packages\\keras\\engine\\functional.py\", line 667, in _run_internal_graph\n      outputs = node.layer(*args, **kwargs)\n    File \"c:\\Users\\JAY\\anaconda3\\envs\\TF_GPU_RTX\\lib\\site-packages\\keras\\utils\\traceback_utils.py\", line 65, in error_handler\n      return fn(*args, **kwargs)\n    File \"c:\\Users\\JAY\\anaconda3\\envs\\TF_GPU_RTX\\lib\\site-packages\\keras\\engine\\base_layer.py\", line 1097, in __call__\n      outputs = call_fn(inputs, *args, **kwargs)\n    File \"c:\\Users\\JAY\\anaconda3\\envs\\TF_GPU_RTX\\lib\\site-packages\\keras\\utils\\traceback_utils.py\", line 96, in error_handler\n      return fn(*args, **kwargs)\n    File \"c:\\Users\\JAY\\anaconda3\\envs\\TF_GPU_RTX\\lib\\site-packages\\keras\\layers\\convolutional\\base_conv.py\", line 314, in call\n      return self.activation(outputs)\n    File \"c:\\Users\\JAY\\anaconda3\\envs\\TF_GPU_RTX\\lib\\site-packages\\keras\\activations.py\", line 317, in relu\n      return backend.relu(\n    File \"c:\\Users\\JAY\\anaconda3\\envs\\TF_GPU_RTX\\lib\\site-packages\\keras\\backend.py\", line 5366, in relu\n      x = tf.nn.relu(x)\nNode: 'model/conv2d_16/Relu'\nOOM when allocating tensor with shape[2,256,256,128] and type float on /job:localhost/replica:0/task:0/device:GPU:0 by allocator GPU_0_bfc\n\t [[{{node model/conv2d_16/Relu}}]]\nHint: If you want to see a list of allocated tensors when OOM happens, add report_tensor_allocations_upon_oom to RunOptions for current allocation info. This isn't available when running in Eager mode.\n [Op:__inference_train_function_13877]",
          "output_type": "error",
          "traceback": [
            "\u001b[1;31m---------------------------------------------------------------------------\u001b[0m",
            "\u001b[1;31mResourceExhaustedError\u001b[0m                    Traceback (most recent call last)",
            "Cell \u001b[1;32mIn[59], line 1\u001b[0m\n\u001b[1;32m----> 1\u001b[0m hist \u001b[38;5;241m=\u001b[39m \u001b[43mmodel\u001b[49m\u001b[38;5;241;43m.\u001b[39;49m\u001b[43mfit\u001b[49m\u001b[43m(\u001b[49m\u001b[43mX\u001b[49m\u001b[43m,\u001b[49m\u001b[43m \u001b[49m\u001b[43my\u001b[49m\u001b[43m)\u001b[49m\n",
            "File \u001b[1;32mc:\\Users\\JAY\\anaconda3\\envs\\TF_GPU_RTX\\lib\\site-packages\\keras\\utils\\traceback_utils.py:70\u001b[0m, in \u001b[0;36mfilter_traceback.<locals>.error_handler\u001b[1;34m(*args, **kwargs)\u001b[0m\n\u001b[0;32m     67\u001b[0m     filtered_tb \u001b[38;5;241m=\u001b[39m _process_traceback_frames(e\u001b[38;5;241m.\u001b[39m__traceback__)\n\u001b[0;32m     68\u001b[0m     \u001b[38;5;66;03m# To get the full stack trace, call:\u001b[39;00m\n\u001b[0;32m     69\u001b[0m     \u001b[38;5;66;03m# `tf.debugging.disable_traceback_filtering()`\u001b[39;00m\n\u001b[1;32m---> 70\u001b[0m     \u001b[38;5;28;01mraise\u001b[39;00m e\u001b[38;5;241m.\u001b[39mwith_traceback(filtered_tb) \u001b[38;5;28;01mfrom\u001b[39;00m \u001b[38;5;28;01mNone\u001b[39;00m\n\u001b[0;32m     71\u001b[0m \u001b[38;5;28;01mfinally\u001b[39;00m:\n\u001b[0;32m     72\u001b[0m     \u001b[38;5;28;01mdel\u001b[39;00m filtered_tb\n",
            "File \u001b[1;32mc:\\Users\\JAY\\anaconda3\\envs\\TF_GPU_RTX\\lib\\site-packages\\tensorflow\\python\\eager\\execute.py:54\u001b[0m, in \u001b[0;36mquick_execute\u001b[1;34m(op_name, num_outputs, inputs, attrs, ctx, name)\u001b[0m\n\u001b[0;32m     52\u001b[0m \u001b[38;5;28;01mtry\u001b[39;00m:\n\u001b[0;32m     53\u001b[0m   ctx\u001b[38;5;241m.\u001b[39mensure_initialized()\n\u001b[1;32m---> 54\u001b[0m   tensors \u001b[38;5;241m=\u001b[39m pywrap_tfe\u001b[38;5;241m.\u001b[39mTFE_Py_Execute(ctx\u001b[38;5;241m.\u001b[39m_handle, device_name, op_name,\n\u001b[0;32m     55\u001b[0m                                       inputs, attrs, num_outputs)\n\u001b[0;32m     56\u001b[0m \u001b[38;5;28;01mexcept\u001b[39;00m core\u001b[38;5;241m.\u001b[39m_NotOkStatusException \u001b[38;5;28;01mas\u001b[39;00m e:\n\u001b[0;32m     57\u001b[0m   \u001b[38;5;28;01mif\u001b[39;00m name \u001b[38;5;129;01mis\u001b[39;00m \u001b[38;5;129;01mnot\u001b[39;00m \u001b[38;5;28;01mNone\u001b[39;00m:\n",
            "\u001b[1;31mResourceExhaustedError\u001b[0m: Graph execution error:\n\nDetected at node 'model/conv2d_16/Relu' defined at (most recent call last):\n    File \"c:\\Users\\JAY\\anaconda3\\envs\\TF_GPU_RTX\\lib\\runpy.py\", line 194, in _run_module_as_main\n      return _run_code(code, main_globals, None,\n    File \"c:\\Users\\JAY\\anaconda3\\envs\\TF_GPU_RTX\\lib\\runpy.py\", line 87, in _run_code\n      exec(code, run_globals)\n    File \"c:\\Users\\JAY\\anaconda3\\envs\\TF_GPU_RTX\\lib\\site-packages\\ipykernel_launcher.py\", line 17, in <module>\n      app.launch_new_instance()\n    File \"c:\\Users\\JAY\\anaconda3\\envs\\TF_GPU_RTX\\lib\\site-packages\\traitlets\\config\\application.py\", line 1075, in launch_instance\n      app.start()\n    File \"c:\\Users\\JAY\\anaconda3\\envs\\TF_GPU_RTX\\lib\\site-packages\\ipykernel\\kernelapp.py\", line 701, in start\n      self.io_loop.start()\n    File \"c:\\Users\\JAY\\anaconda3\\envs\\TF_GPU_RTX\\lib\\site-packages\\tornado\\platform\\asyncio.py\", line 215, in start\n      self.asyncio_loop.run_forever()\n    File \"c:\\Users\\JAY\\anaconda3\\envs\\TF_GPU_RTX\\lib\\asyncio\\windows_events.py\", line 316, in run_forever\n      super().run_forever()\n    File \"c:\\Users\\JAY\\anaconda3\\envs\\TF_GPU_RTX\\lib\\asyncio\\base_events.py\", line 570, in run_forever\n      self._run_once()\n    File \"c:\\Users\\JAY\\anaconda3\\envs\\TF_GPU_RTX\\lib\\asyncio\\base_events.py\", line 1859, in _run_once\n      handle._run()\n    File \"c:\\Users\\JAY\\anaconda3\\envs\\TF_GPU_RTX\\lib\\asyncio\\events.py\", line 81, in _run\n      self._context.run(self._callback, *self._args)\n    File \"c:\\Users\\JAY\\anaconda3\\envs\\TF_GPU_RTX\\lib\\site-packages\\ipykernel\\kernelbase.py\", line 534, in dispatch_queue\n      await self.process_one()\n    File \"c:\\Users\\JAY\\anaconda3\\envs\\TF_GPU_RTX\\lib\\site-packages\\ipykernel\\kernelbase.py\", line 523, in process_one\n      await dispatch(*args)\n    File \"c:\\Users\\JAY\\anaconda3\\envs\\TF_GPU_RTX\\lib\\site-packages\\ipykernel\\kernelbase.py\", line 429, in dispatch_shell\n      await result\n    File \"c:\\Users\\JAY\\anaconda3\\envs\\TF_GPU_RTX\\lib\\site-packages\\ipykernel\\kernelbase.py\", line 767, in execute_request\n      reply_content = await reply_content\n    File \"c:\\Users\\JAY\\anaconda3\\envs\\TF_GPU_RTX\\lib\\site-packages\\ipykernel\\ipkernel.py\", line 429, in do_execute\n      res = shell.run_cell(\n    File \"c:\\Users\\JAY\\anaconda3\\envs\\TF_GPU_RTX\\lib\\site-packages\\ipykernel\\zmqshell.py\", line 549, in run_cell\n      return super().run_cell(*args, **kwargs)\n    File \"c:\\Users\\JAY\\anaconda3\\envs\\TF_GPU_RTX\\lib\\site-packages\\IPython\\core\\interactiveshell.py\", line 3006, in run_cell\n      result = self._run_cell(\n    File \"c:\\Users\\JAY\\anaconda3\\envs\\TF_GPU_RTX\\lib\\site-packages\\IPython\\core\\interactiveshell.py\", line 3061, in _run_cell\n      result = runner(coro)\n    File \"c:\\Users\\JAY\\anaconda3\\envs\\TF_GPU_RTX\\lib\\site-packages\\IPython\\core\\async_helpers.py\", line 129, in _pseudo_sync_runner\n      coro.send(None)\n    File \"c:\\Users\\JAY\\anaconda3\\envs\\TF_GPU_RTX\\lib\\site-packages\\IPython\\core\\interactiveshell.py\", line 3266, in run_cell_async\n      has_raised = await self.run_ast_nodes(code_ast.body, cell_name,\n    File \"c:\\Users\\JAY\\anaconda3\\envs\\TF_GPU_RTX\\lib\\site-packages\\IPython\\core\\interactiveshell.py\", line 3445, in run_ast_nodes\n      if await self.run_code(code, result, async_=asy):\n    File \"c:\\Users\\JAY\\anaconda3\\envs\\TF_GPU_RTX\\lib\\site-packages\\IPython\\core\\interactiveshell.py\", line 3505, in run_code\n      exec(code_obj, self.user_global_ns, self.user_ns)\n    File \"C:\\Users\\JAY\\AppData\\Local\\Temp\\ipykernel_29708\\1317976882.py\", line 1, in <module>\n      hist = model.fit(X, y)\n    File \"c:\\Users\\JAY\\anaconda3\\envs\\TF_GPU_RTX\\lib\\site-packages\\keras\\utils\\traceback_utils.py\", line 65, in error_handler\n      return fn(*args, **kwargs)\n    File \"c:\\Users\\JAY\\anaconda3\\envs\\TF_GPU_RTX\\lib\\site-packages\\keras\\engine\\training.py\", line 1564, in fit\n      tmp_logs = self.train_function(iterator)\n    File \"c:\\Users\\JAY\\anaconda3\\envs\\TF_GPU_RTX\\lib\\site-packages\\keras\\engine\\training.py\", line 1160, in train_function\n      return step_function(self, iterator)\n    File \"c:\\Users\\JAY\\anaconda3\\envs\\TF_GPU_RTX\\lib\\site-packages\\keras\\engine\\training.py\", line 1146, in step_function\n      outputs = model.distribute_strategy.run(run_step, args=(data,))\n    File \"c:\\Users\\JAY\\anaconda3\\envs\\TF_GPU_RTX\\lib\\site-packages\\keras\\engine\\training.py\", line 1135, in run_step\n      outputs = model.train_step(data)\n    File \"c:\\Users\\JAY\\anaconda3\\envs\\TF_GPU_RTX\\lib\\site-packages\\keras\\engine\\training.py\", line 993, in train_step\n      y_pred = self(x, training=True)\n    File \"c:\\Users\\JAY\\anaconda3\\envs\\TF_GPU_RTX\\lib\\site-packages\\keras\\utils\\traceback_utils.py\", line 65, in error_handler\n      return fn(*args, **kwargs)\n    File \"c:\\Users\\JAY\\anaconda3\\envs\\TF_GPU_RTX\\lib\\site-packages\\keras\\engine\\training.py\", line 557, in __call__\n      return super().__call__(*args, **kwargs)\n    File \"c:\\Users\\JAY\\anaconda3\\envs\\TF_GPU_RTX\\lib\\site-packages\\keras\\utils\\traceback_utils.py\", line 65, in error_handler\n      return fn(*args, **kwargs)\n    File \"c:\\Users\\JAY\\anaconda3\\envs\\TF_GPU_RTX\\lib\\site-packages\\keras\\engine\\base_layer.py\", line 1097, in __call__\n      outputs = call_fn(inputs, *args, **kwargs)\n    File \"c:\\Users\\JAY\\anaconda3\\envs\\TF_GPU_RTX\\lib\\site-packages\\keras\\utils\\traceback_utils.py\", line 96, in error_handler\n      return fn(*args, **kwargs)\n    File \"c:\\Users\\JAY\\anaconda3\\envs\\TF_GPU_RTX\\lib\\site-packages\\keras\\engine\\functional.py\", line 510, in call\n      return self._run_internal_graph(inputs, training=training, mask=mask)\n    File \"c:\\Users\\JAY\\anaconda3\\envs\\TF_GPU_RTX\\lib\\site-packages\\keras\\engine\\functional.py\", line 667, in _run_internal_graph\n      outputs = node.layer(*args, **kwargs)\n    File \"c:\\Users\\JAY\\anaconda3\\envs\\TF_GPU_RTX\\lib\\site-packages\\keras\\utils\\traceback_utils.py\", line 65, in error_handler\n      return fn(*args, **kwargs)\n    File \"c:\\Users\\JAY\\anaconda3\\envs\\TF_GPU_RTX\\lib\\site-packages\\keras\\engine\\base_layer.py\", line 1097, in __call__\n      outputs = call_fn(inputs, *args, **kwargs)\n    File \"c:\\Users\\JAY\\anaconda3\\envs\\TF_GPU_RTX\\lib\\site-packages\\keras\\utils\\traceback_utils.py\", line 96, in error_handler\n      return fn(*args, **kwargs)\n    File \"c:\\Users\\JAY\\anaconda3\\envs\\TF_GPU_RTX\\lib\\site-packages\\keras\\layers\\convolutional\\base_conv.py\", line 314, in call\n      return self.activation(outputs)\n    File \"c:\\Users\\JAY\\anaconda3\\envs\\TF_GPU_RTX\\lib\\site-packages\\keras\\activations.py\", line 317, in relu\n      return backend.relu(\n    File \"c:\\Users\\JAY\\anaconda3\\envs\\TF_GPU_RTX\\lib\\site-packages\\keras\\backend.py\", line 5366, in relu\n      x = tf.nn.relu(x)\nNode: 'model/conv2d_16/Relu'\nOOM when allocating tensor with shape[2,256,256,128] and type float on /job:localhost/replica:0/task:0/device:GPU:0 by allocator GPU_0_bfc\n\t [[{{node model/conv2d_16/Relu}}]]\nHint: If you want to see a list of allocated tensors when OOM happens, add report_tensor_allocations_upon_oom to RunOptions for current allocation info. This isn't available when running in Eager mode.\n [Op:__inference_train_function_13877]"
          ]
        }
      ],
      "source": [
        "hist = model.fit(X, y)"
      ]
    },
    {
      "cell_type": "code",
      "execution_count": 1,
      "metadata": {},
      "outputs": [
        {
          "ename": "ValueError",
          "evalue": "operands could not be broadcast together with shapes (10,) (9,) ",
          "output_type": "error",
          "traceback": [
            "\u001b[1;31m---------------------------------------------------------------------------\u001b[0m",
            "\u001b[1;31mValueError\u001b[0m                                Traceback (most recent call last)",
            "Cell \u001b[1;32mIn[1], line 25\u001b[0m\n\u001b[0;32m     22\u001b[0m plt\u001b[38;5;241m.\u001b[39mtitle(\u001b[38;5;124m'\u001b[39m\u001b[38;5;124mPrecision-Recall Curve\u001b[39m\u001b[38;5;124m'\u001b[39m)\n\u001b[0;32m     24\u001b[0m \u001b[38;5;66;03m# PR 곡선 아래 면적(AP) 계산\u001b[39;00m\n\u001b[1;32m---> 25\u001b[0m ap \u001b[38;5;241m=\u001b[39m np\u001b[38;5;241m.\u001b[39msum(\u001b[43mprecision\u001b[49m\u001b[43m \u001b[49m\u001b[38;5;241;43m*\u001b[39;49m\u001b[43m \u001b[49m\u001b[43m(\u001b[49m\u001b[43mrecall\u001b[49m\u001b[43m[\u001b[49m\u001b[38;5;241;43m1\u001b[39;49m\u001b[43m:\u001b[49m\u001b[43m]\u001b[49m\u001b[43m \u001b[49m\u001b[38;5;241;43m-\u001b[39;49m\u001b[43m \u001b[49m\u001b[43mrecall\u001b[49m\u001b[43m[\u001b[49m\u001b[43m:\u001b[49m\u001b[38;5;241;43m-\u001b[39;49m\u001b[38;5;241;43m1\u001b[39;49m\u001b[43m]\u001b[49m\u001b[43m)\u001b[49m)\n\u001b[0;32m     26\u001b[0m \u001b[38;5;28mprint\u001b[39m(\u001b[38;5;124m\"\u001b[39m\u001b[38;5;124mAverage Precision (AP):\u001b[39m\u001b[38;5;124m\"\u001b[39m, ap)\n\u001b[0;32m     28\u001b[0m plt\u001b[38;5;241m.\u001b[39mshow()\n",
            "\u001b[1;31mValueError\u001b[0m: operands could not be broadcast together with shapes (10,) (9,) "
          ]
        },
        {
          "data": {
            "image/png": "[encoded data removed]",
            "text/plain": [
              "<Figure size 640x480 with 1 Axes>"
            ]
          },
          "metadata": {},
          "output_type": "display_data"
        }
      ],
      "source": [
        "import numpy as np\n",
        "import matplotlib.pyplot as plt\n",
        "\n",
        "# 주어진 예측 결과와 실제 레이블\n",
        "predictions = np.array([1, 1, 0, 1, 1, 1, 0, 1, 0, 1])  # 1: 마스크 쓴 것, 0: 마스크 안 쓴 것\n",
        "labels = np.array([0, 1, 1, 1, 0, 0, 0, 0, 1, 1])  # 실제 레이블\n",
        "\n",
        "# 예측 결과가 1일 때의 확률을 저장\n",
        "scores = np.array([0.9, 0.8, 0.2, 0.9, 0.7, 0.6, 0.3, 0.9, 0.4, 0.8])\n",
        "\n",
        "# 정밀도(Precision)와 재현율(Recall) 계산\n",
        "true_positives = np.cumsum((predictions == 1) & (labels == 1))\n",
        "false_positives = np.cumsum((predictions == 1) & (labels == 0))\n",
        "false_negatives = np.sum((predictions == 0) & (labels == 1))\n",
        "precision = true_positives / (true_positives + false_positives)\n",
        "recall = true_positives / (true_positives + false_negatives)\n",
        "\n",
        "# PR 곡선 그리기\n",
        "plt.plot(recall, precision, marker='o')\n",
        "plt.xlabel('Recall')\n",
        "plt.ylabel('Precision')\n",
        "plt.title('Precision-Recall Curve')\n",
        "\n",
        "# PR 곡선 아래 면적(AP) 계산\n",
        "ap = np.sum(precision * (recall[1:] - recall[:-1]))\n",
        "print(\"Average Precision (AP):\", ap)\n",
        "\n",
        "plt.show()\n"
      ]
    },
    {
      "cell_type": "code",
      "execution_count": 2,
      "metadata": {},
      "outputs": [
        {
          "name": "stdout",
          "output_type": "stream",
          "text": [
            "Average Precision (AP): 0.2130952380952381\n"
          ]
        },
        {
          "data": {
            "image/png": "[encoded data removed]",
            "text/plain": [
              "<Figure size 640x480 with 1 Axes>"
            ]
          },
          "metadata": {},
          "output_type": "display_data"
        }
      ],
      "source": [
        "import numpy as np\n",
        "import matplotlib.pyplot as plt\n",
        "\n",
        "# 주어진 예측 결과와 실제 레이블\n",
        "predictions = np.array([1, 1, 0, 1, 1, 1, 0, 1, 0, 1])  # 1: 마스크 쓴 것, 0: 마스크 안 쓴 것\n",
        "labels = np.array([0, 1, 1, 1, 0, 0, 0, 0, 1, 1])  # 실제 레이블\n",
        "\n",
        "# 예측 결과가 1일 때의 확률을 저장\n",
        "scores = np.array([0.9, 0.8, 0.2, 0.9, 0.7, 0.6, 0.3, 0.9, 0.4, 0.8])\n",
        "\n",
        "# 정밀도(Precision)와 재현율(Recall) 계산\n",
        "true_positives = np.cumsum((predictions == 1) & (labels == 1))\n",
        "false_positives = np.cumsum((predictions == 1) & (labels == 0))\n",
        "false_negatives = np.sum((predictions == 0) & (labels == 1))\n",
        "precision = true_positives / (true_positives + false_positives)\n",
        "recall = true_positives / (true_positives + false_negatives)\n",
        "\n",
        "# precision을 역순으로 정렬\n",
        "precision = precision[::-1]\n",
        "\n",
        "# PR 곡선 그리기\n",
        "plt.plot(recall, precision, marker='o')\n",
        "plt.xlabel('Recall')\n",
        "plt.ylabel('Precision')\n",
        "plt.title('Precision-Recall Curve')\n",
        "\n",
        "# PR 곡선 아래 면적(AP) 계산\n",
        "ap = np.trapz(precision, recall)\n",
        "print(\"Average Precision (AP):\", ap)\n",
        "\n",
        "plt.show()\n"
      ]
    },
    {
      "cell_type": "code",
      "execution_count": 5,
      "metadata": {},
      "outputs": [
        {
          "data": {
            "text/plain": [
              "(512, 512, 3)"
            ]
          },
          "execution_count": 5,
          "metadata": {},
          "output_type": "execute_result"
        }
      ],
      "source": [
        "path = r\"D:\\알파코\\SCHP\\Jay's_code\\resize_pad_img\\512,512\\512,512\\01_00_F001_01.jpg\"\n",
        "\n",
        "test_image = Image.open(path)\n",
        "\n",
        "test_array = np.array(test_image)\n",
        "\n",
        "test_array.shape"
      ]
    },
    {
      "cell_type": "code",
      "execution_count": null,
      "metadata": {},
      "outputs": [],
      "source": []
    }
  ],
  "metadata": {
    "colab": {
      "provenance": []
    },
    "kernelspec": {
      "display_name": "Python 3",
      "name": "python3"
    },
    "language_info": {
      "codemirror_mode": {
        "name": "ipython",
        "version": 3
      },
      "file_extension": ".py",
      "mimetype": "text/x-python",
      "name": "python",
      "nbconvert_exporter": "python",
      "pygments_lexer": "ipython3",
      "version": "3.8.18"
    }
  },
  "nbformat": 4,
  "nbformat_minor": 0
}
