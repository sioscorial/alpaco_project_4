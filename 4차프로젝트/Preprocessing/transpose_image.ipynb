{
 "cells": [
  {
   "cell_type": "markdown",
   "metadata": {},
   "source": [
    "# Data Source\n",
    "\n",
    "- [AIHub: 한국인 전신 형상 및 치수 측정 데이터(성인)](https://www.aihub.or.kr/aihubdata/data/view.do?currMenu=&topMenu=&aihubDataSe=data&dataSetSn=560)"
   ]
  },
  {
   "cell_type": "markdown",
   "metadata": {},
   "source": [
    "# Import Library"
   ]
  },
  {
   "cell_type": "code",
   "execution_count": 116,
   "metadata": {},
   "outputs": [],
   "source": [
    "import os\n",
    "from PIL import Image\n",
    "import numpy as np\n",
    "import matplotlib.pyplot as plt\n",
    "from tqdm import tqdm\n",
    "import random\n",
    "import shutil\n",
    "import pickle"
   ]
  },
  {
   "cell_type": "markdown",
   "metadata": {},
   "source": [
    "# Function"
   ]
  },
  {
   "cell_type": "markdown",
   "metadata": {},
   "source": [
    "##### Label 및 Index 딕셔너리"
   ]
  },
  {
   "cell_type": "code",
   "execution_count": 2,
   "metadata": {},
   "outputs": [],
   "source": [
    "Index2Label = {0: 'Background', \n",
    "               1: 'Head', \n",
    "               2: 'Torso', \n",
    "               3: 'Upper_Arms', \n",
    "               4: 'Lower_Arms', \n",
    "               5: 'Upper_Legs', \n",
    "               6: 'Lower_Legs'}\n",
    "\n",
    "Label2Index = {'Background': 0, \n",
    "               'Head': 1, \n",
    "               'Torso': 2, \n",
    "               'Upper_Arms': 3, \n",
    "               'Lower_Arms': 4, \n",
    "               'Upper_Legs': 5, \n",
    "               'Lower_Legs': 6}\n",
    "\n",
    "# Label2Index = {v: k for k, v in Index2Label.items()}"
   ]
  },
  {
   "cell_type": "markdown",
   "metadata": {},
   "source": [
    "##### 이미지 경로 생성\n",
    "- Input: 이미지 폴더 경로\n",
    "- Output: 이미지 경로"
   ]
  },
  {
   "cell_type": "code",
   "execution_count": 3,
   "metadata": {},
   "outputs": [],
   "source": [
    "def create_images_path(folder_path):\n",
    "    folder_path = folder_path\n",
    "    imges = os.listdir(folder_path)\n",
    "    images_path = [os.path.join(folder_path, img) for img in imges]\n",
    "    return images_path"
   ]
  },
  {
   "cell_type": "markdown",
   "metadata": {},
   "source": [
    "##### 이미지 시각화 및 넘파이 배열 반환\n",
    "- Input: 이미지경로, 시각화 유무(bool), 화면 전환 각도"
   ]
  },
  {
   "cell_type": "code",
   "execution_count": 20,
   "metadata": {},
   "outputs": [],
   "source": [
    "def visualize_images(images_path, visualize=1, rotate=0): # Outputs\\\\01_01_F010_02.png, rotate 회전각 입력\n",
    "    # Output\n",
    "    images_names = []\n",
    "    images_array = []\n",
    "    \n",
    "    for img in tqdm(images_path, desc=\"Processing images\"):\n",
    "        image_path = img\n",
    "        image_name = os.path.basename(image_path)\n",
    "\n",
    "        image = Image.open(image_path)\n",
    "\n",
    "        # 이미지 회전 메타데이터를 자동으로 해석하여 회전시킴\n",
    "        image = image.rotate(rotate, expand=True)  # 0은 회전 각도, expand=True는 이미지 크기 조정 (0 / 270)\n",
    "\n",
    "        images_names.append(image_name)\n",
    "        image_array = np.array(image)\n",
    "        images_array.append(image_array)\n",
    "\n",
    "        # Visualize Images -------------------> Option(On/Off)\n",
    "        if visualize:\n",
    "            \n",
    "            print(\"Size of Image:\", image.size)\n",
    "            print(\"Mode of Image:\", image.mode) # (RGB/L/P)\n",
    "            \n",
    "            # print(\"Shape of Image (Numpy ):\", )\n",
    "            \n",
    "            \n",
    "            plt.imshow(image)\n",
    "            plt.title(f'{image_name}')\n",
    "            plt.axis('off')  # 축 제거\n",
    "            plt.show()\n",
    "    else:\n",
    "        pass\n",
    "\n",
    "    return images_names, images_array"
   ]
  },
  {
   "cell_type": "code",
   "execution_count": 123,
   "metadata": {},
   "outputs": [],
   "source": [
    "def palette_to_one_hot(palette_image_path, num_classes=7, imge_info=True, visualize=True):\n",
    "    \"\"\"\n",
    "    팔레트 이미지를 원핫인코딩하여 (2940, 1960, 7) 형태의 이미지로 변환하는 함수\n",
    "\n",
    "    Args:\n",
    "    palette_image_path (str): 세그멘테이션된 P 모드의 PIL 팔레트 이미지 경로\n",
    "\n",
    "    Returns:\n",
    "    np.ndarray: 원핫인코딩된 이미지\n",
    "    \"\"\"\n",
    "    # 클래스 수 정의 (배경 포함 1개)\n",
    "    num_classes = num_classes\n",
    "\n",
    "    # PIL 2 Numpy\n",
    "    palette_image = Image.open(palette_image_path)\n",
    "    palette_image_array = np.array(palette_image)\n",
    "\n",
    "    # 원핫인코딩된 이미지를 저장할 배열 생성\n",
    "    one_hot_encoded_image = np.zeros((*palette_image_array.shape, num_classes), dtype=np.uint8)\n",
    "\n",
    "    # 각 픽셀을 원핫인코딩된 형태로 변환\n",
    "    for i in range(palette_image_array.shape[0]): # 2940\n",
    "        for j in range(palette_image_array.shape[1]): # 1960\n",
    "            pixel_value = palette_image_array[i, j]  # 현재 픽셀의 값\n",
    "            one_hot_encoded_image[i, j, pixel_value] = 1  # 해당 클래스에 대응하는 채널에 1 할당\n",
    "\n",
    "    if imge_info:\n",
    "        # 이미지 이름 출력\n",
    "        image_name = os.path.basename(palette_image_path)\n",
    "        print(\"Image Name:\", image_name)\n",
    "        print(\"Original Image Shape:\", palette_image_array.shape)\n",
    "        print(\"Transformed Image Shape:\", one_hot_encoded_image.shape)\n",
    "        print()\n",
    "        \n",
    "    if visualize:\n",
    "        visualize_one_hot_encoded_image(one_hot_encoded_image,  Index2Label=Index2Label)\n",
    "        \n",
    "    return one_hot_encoded_image"
   ]
  },
  {
   "cell_type": "code",
   "execution_count": 69,
   "metadata": {},
   "outputs": [],
   "source": [
    "def visualize_one_hot_encoded_image(one_hot_encoded_image, Index2Label=Index2Label):\n",
    "    \"\"\"\n",
    "    원핫인코딩된 이미지를 시각화하고 클래스별로 따로 시각화하여 보여주는 함수\n",
    "\n",
    "    Args:\n",
    "    one_hot_encoded_image (np.ndarray): 원핫인코딩된 이미지\n",
    "\n",
    "    Returns:\n",
    "    None\n",
    "    \"\"\"\n",
    "    # 이미지의 형태 출력\n",
    "    print(\"Transformed Image Shape:\", one_hot_encoded_image.shape)\n",
    "\n",
    "    # 전체 이미지 시각화\n",
    "    plt.figure(figsize=(8, 8))\n",
    "    plt.imshow(one_hot_encoded_image.argmax(axis=2), cmap='viridis', interpolation='nearest')\n",
    "    plt.title('Original Palette Image')\n",
    "    plt.axis('off')\n",
    "    plt.show()\n",
    "\n",
    "    # 클래스별로 따로 시각화\n",
    "    num_classes = one_hot_encoded_image.shape[2]\n",
    "    for class_index in range(num_classes):\n",
    "        class_image = one_hot_encoded_image[:, :, class_index]\n",
    "        plt.figure(figsize=(8, 8))\n",
    "        plt.imshow(class_image, cmap='gray')\n",
    "        plt.title(f'Class: {class_index} {Index2Label[class_index]}')\n",
    "        plt.axis('off')\n",
    "        plt.show()"
   ]
  },
  {
   "cell_type": "code",
   "execution_count": null,
   "metadata": {},
   "outputs": [],
   "source": [
    "def save_images_pkl_with_one_hot_encoding(images_paths, output_folder_path, num_classes=7, imge_info=True, visualize=False):\n",
    "    \"\"\"\n",
    "    이미지를 원핫인코딩하여 새로운 폴더에 저장하는 함수\n",
    "\n",
    "    Args:\n",
    "    images_paths (list): 이미지 파일 경로의 리스트\n",
    "    output_folder_path (str): 이미지를 저장할 폴더 이름(현재 경로에 저장)\n",
    "    num_classes (int): segmentation 세그멘테이션 클래스 개수(배경 포함)\n",
    "    imge_info (bool): 이미지 정보 출력 토글(default: True)\n",
    "    visualize (bool): 이미지 시각화 토글(default: False)\n",
    "\n",
    "    Returns:\n",
    "    None\n",
    "    \"\"\"\n",
    "    # 새로운 폴더 생성\n",
    "    os.makedirs(output_folder_path, exist_ok=True)\n",
    "    \n",
    "    # one_hot_encoded_images\n",
    "    one_hot_encoded_images = []\n",
    "\n",
    "    # 원핫 인코딩 수행\n",
    "    for img_path in tqdm(images_paths, desc='Encoding images'):\n",
    "        \n",
    "        # PIL Pallete 2 Numpy\n",
    "        one_hot_encoded_image = palette_to_one_hot(img_path, num_classes=num_classes, imge_info=imge_info, visualize=visualize)\n",
    "        one_hot_encoded_images.append(one_hot_encoded_image)\n",
    "        \n",
    "    # 저장할 경로 설정\n",
    "    save_path = os.path.join(output_folder_path, f\"one_hot_encoded_images_array.pkl\") \n",
    "        \n",
    "    # 이미지 데이터를 피클로 저장\n",
    "    with open(save_path, 'wb') as f:\n",
    "        pickle.dump(one_hot_encoded_images, f)"
   ]
  },
  {
   "cell_type": "code",
   "execution_count": null,
   "metadata": {},
   "outputs": [],
   "source": [
    "import pickle\n",
    "\n",
    "def save_images_pkl_with_one_hot_encoding(images_paths, output_folder_path, num_classes=7, imge_info=True, visualize=False):\n",
    "    \"\"\"\n",
    "    이미지를 원핫인코딩하여 새로운 폴더에 저장하는 함수\n",
    "\n",
    "    Args:\n",
    "    images_paths (list): 이미지 파일 경로의 리스트\n",
    "    output_folder_path (str): 이미지를 저장할 폴더 이름(현재 경로에 저장)\n",
    "    num_classes (int): segmentation 세그멘테이션 클래스 개수(배경 포함)\n",
    "    imge_info (bool): 이미지 정보 출력 토글(default: True)\n",
    "    visualize (bool): 이미지 시각화 토글(default: False)\n",
    "\n",
    "    Returns:\n",
    "    None\n",
    "    \"\"\"\n",
    "    # 새로운 폴더 생성\n",
    "    os.makedirs(output_folder_path, exist_ok=True)\n",
    "    \n",
    "    # one_hot_encoded_images\n",
    "    one_hot_encoded_images = []\n",
    "\n",
    "    # 원핫 인코딩 수행\n",
    "    for img_path in tqdm(images_paths, desc='Encoding images'):\n",
    "        \n",
    "        # PIL Pallete 2 Numpy\n",
    "        one_hot_encoded_image = palette_to_one_hot(img_path, num_classes=num_classes, imge_info=imge_info, visualize=visualize)\n",
    "        one_hot_encoded_images.append(one_hot_encoded_image)\n",
    "        \n",
    "    # 저장할 경로 설정\n",
    "    save_path = os.path.join(output_folder_path, f\"one_hot_encoded_images_array.pkl\") \n",
    "        \n",
    "    # 이미지 데이터를 피클로 저장\n",
    "    with open(save_path, 'wb') as f:\n",
    "        pickle.dump(one_hot_encoded_images, f)"
   ]
  },
  {
   "cell_type": "markdown",
   "metadata": {},
   "source": [
    "# Test"
   ]
  },
  {
   "cell_type": "code",
   "execution_count": null,
   "metadata": {},
   "outputs": [],
   "source": [
    "\"D:\\알파코\\SCHP\\Seg_Inspect\\seg_crop\\01\\01_00_F001_01.png\""
   ]
  },
  {
   "cell_type": "code",
   "execution_count": null,
   "metadata": {},
   "outputs": [],
   "source": [
    "\"D:\\알파코\\SCHP\\Seg_Inspect\\seg_crop\""
   ]
  },
  {
   "cell_type": "code",
   "execution_count": 78,
   "metadata": {},
   "outputs": [
    {
     "name": "stdout",
     "output_type": "stream",
     "text": [
      "32\n",
      "01\n"
     ]
    }
   ],
   "source": [
    "base_folder_path = r'D:\\알파코\\SCHP\\Seg_Inspect\\seg_crop'\n",
    "angles = os.listdir(base_folder_path) # 1 ~ 32\n",
    "\n",
    "print(len(angles))\n",
    "print(angles[0])"
   ]
  },
  {
   "cell_type": "code",
   "execution_count": 25,
   "metadata": {},
   "outputs": [
    {
     "data": {
      "text/plain": [
       "'D:\\\\알파코\\\\SCHP\\\\Seg_Inspect\\\\seg_crop'"
      ]
     },
     "execution_count": 25,
     "metadata": {},
     "output_type": "execute_result"
    }
   ],
   "source": [
    "base_folder_path"
   ]
  },
  {
   "cell_type": "code",
   "execution_count": 7,
   "metadata": {},
   "outputs": [
    {
     "name": "stdout",
     "output_type": "stream",
     "text": [
      "D:\\알파코\\SCHP\\Seg_Inspect\\seg_crop\\01\n"
     ]
    }
   ],
   "source": [
    "angle_1_path = os.path.join(base_folder_path, angles[0]) # 'D:\\\\알파코\\\\SCHP\\\\Seg_Inspect\\\\seg_crop\\\\01\n",
    "\n",
    "print(angle_1_path)"
   ]
  },
  {
   "cell_type": "code",
   "execution_count": 15,
   "metadata": {},
   "outputs": [
    {
     "name": "stdout",
     "output_type": "stream",
     "text": [
      "Total: 872\n",
      "test omges: 10\n"
     ]
    }
   ],
   "source": [
    "test_seg_path = create_images_path(angle_1_path) # 872개\n",
    "test_imges = test_seg_path[:10] # 10개만 사용\n",
    "\n",
    "print(f'Total: {len(test_seg_path)}') # 872 (촬영 각도1 이미지)\n",
    "print(f'test omges: {len(test_imges)}')"
   ]
  },
  {
   "cell_type": "code",
   "execution_count": 16,
   "metadata": {},
   "outputs": [
    {
     "data": {
      "text/plain": [
       "['D:\\\\알파코\\\\SCHP\\\\Seg_Inspect\\\\seg_crop\\\\01\\\\01_00_F001_01.png',\n",
       " 'D:\\\\알파코\\\\SCHP\\\\Seg_Inspect\\\\seg_crop\\\\01\\\\01_00_F002_01.png',\n",
       " 'D:\\\\알파코\\\\SCHP\\\\Seg_Inspect\\\\seg_crop\\\\01\\\\01_00_F003_01.png',\n",
       " 'D:\\\\알파코\\\\SCHP\\\\Seg_Inspect\\\\seg_crop\\\\01\\\\01_00_M002_01.png',\n",
       " 'D:\\\\알파코\\\\SCHP\\\\Seg_Inspect\\\\seg_crop\\\\01\\\\01_01_F001_01.png',\n",
       " 'D:\\\\알파코\\\\SCHP\\\\Seg_Inspect\\\\seg_crop\\\\01\\\\01_01_F002_01.png',\n",
       " 'D:\\\\알파코\\\\SCHP\\\\Seg_Inspect\\\\seg_crop\\\\01\\\\01_01_F003_01.png',\n",
       " 'D:\\\\알파코\\\\SCHP\\\\Seg_Inspect\\\\seg_crop\\\\01\\\\01_01_F004_01.png',\n",
       " 'D:\\\\알파코\\\\SCHP\\\\Seg_Inspect\\\\seg_crop\\\\01\\\\01_01_F017_01.png',\n",
       " 'D:\\\\알파코\\\\SCHP\\\\Seg_Inspect\\\\seg_crop\\\\01\\\\01_01_F018_01.png']"
      ]
     },
     "execution_count": 16,
     "metadata": {},
     "output_type": "execute_result"
    }
   ],
   "source": [
    "test_imges"
   ]
  },
  {
   "cell_type": "code",
   "execution_count": null,
   "metadata": {},
   "outputs": [],
   "source": []
  },
  {
   "cell_type": "code",
   "execution_count": null,
   "metadata": {},
   "outputs": [],
   "source": []
  },
  {
   "cell_type": "code",
   "execution_count": 154,
   "metadata": {},
   "outputs": [],
   "source": [
    "test_path = r\"D:\\알파코\\SCHP\\Seg_Inspect\\seg_crop\\01\\01_00_F001_01.png\""
   ]
  },
  {
   "cell_type": "code",
   "execution_count": 155,
   "metadata": {},
   "outputs": [
    {
     "data": {
      "image/png": "[encoded data removed]",
      "text/plain": [
       "<Figure size 640x480 with 1 Axes>"
      ]
     },
     "metadata": {},
     "output_type": "display_data"
    }
   ],
   "source": [
    "img = Image.open(test_path)\n",
    "\n",
    "image_name = os.path.basename(test_path)\n",
    "\n",
    "plt.imshow(img)\n",
    "plt.title(f'{image_name}')\n",
    "plt.axis('off')\n",
    "plt.show()"
   ]
  },
  {
   "cell_type": "code",
   "execution_count": 156,
   "metadata": {},
   "outputs": [
    {
     "name": "stdout",
     "output_type": "stream",
     "text": [
      "Image Name: 01_00_F001_01.png\n",
      "Original Image Shape: (2940, 1960)\n",
      "Transformed Image Shape: (2940, 1960, 7)\n",
      "\n"
     ]
    }
   ],
   "source": [
    "test_image = palette_to_one_hot(test_path, visualize=False)"
   ]
  },
  {
   "cell_type": "code",
   "execution_count": 157,
   "metadata": {},
   "outputs": [
    {
     "name": "stdout",
     "output_type": "stream",
     "text": [
      "Image Name: 01_00_F001_01.png\n",
      "Original Image Shape: (2940, 1960)\n",
      "Transformed Image Shape: (2940, 1960, 7)\n",
      "\n",
      "Transformed Image Shape: (2940, 1960, 7)\n"
     ]
    },
    {
     "data": {
      "image/png": "[encoded data removed]",
      "text/plain": [
       "<Figure size 800x800 with 1 Axes>"
      ]
     },
     "metadata": {},
     "output_type": "display_data"
    },
    {
     "data": {
      "image/png": "[encoded data removed]",
      "text/plain": [
       "<Figure size 800x800 with 1 Axes>"
      ]
     },
     "metadata": {},
     "output_type": "display_data"
    },
    {
     "data": {
      "image/png": "[encoded data removed]",
      "text/plain": [
       "<Figure size 800x800 with 1 Axes>"
      ]
     },
     "metadata": {},
     "output_type": "display_data"
    },
    {
     "data": {
      "image/png": "[encoded data removed]",
      "text/plain": [
       "<Figure size 800x800 with 1 Axes>"
      ]
     },
     "metadata": {},
     "output_type": "display_data"
    },
    {
     "data": {
      "image/png": "[encoded data removed]",
      "text/plain": [
       "<Figure size 800x800 with 1 Axes>"
      ]
     },
     "metadata": {},
     "output_type": "display_data"
    },
    {
     "data": {
      "image/png": "[encoded data removed]",
      "text/plain": [
       "<Figure size 800x800 with 1 Axes>"
      ]
     },
     "metadata": {},
     "output_type": "display_data"
    },
    {
     "data": {
      "image/png": "[encoded data removed]",
      "text/plain": [
       "<Figure size 800x800 with 1 Axes>"
      ]
     },
     "metadata": {},
     "output_type": "display_data"
    },
    {
     "data": {
      "image/png": "[encoded data removed]",
      "text/plain": [
       "<Figure size 800x800 with 1 Axes>"
      ]
     },
     "metadata": {},
     "output_type": "display_data"
    }
   ],
   "source": [
    "test_image = palette_to_one_hot(test_path, imge_info=True, visualize=True)"
   ]
  },
  {
   "cell_type": "code",
   "execution_count": null,
   "metadata": {},
   "outputs": [],
   "source": [
    "test_image"
   ]
  },
  {
   "cell_type": "code",
   "execution_count": null,
   "metadata": {},
   "outputs": [],
   "source": []
  },
  {
   "cell_type": "code",
   "execution_count": 158,
   "metadata": {},
   "outputs": [],
   "source": [
    "import matplotlib.pyplot as plt\n",
    "\n",
    "# 다양한 컬러맵 사용 예시\n",
    "# cmaps = ['viridis', 'plasma', 'inferno', 'magma', 'cividis', 'gray', \n",
    "#          'bone', 'pink', 'spring', 'summer', 'autumn', 'winter', \n",
    "#          'cool', 'hot', 'jet', 'hsv', 'twilight', 'twilight_shifted', 'cubehelix', 'gnuplot']\n",
    "\n",
    "# for cmap in cmaps:\n",
    "#     plt.imshow(test_image.argmax(axis=2), cmap=cmap, interpolation='nearest')\n",
    "#     plt.title(f'{cmap.capitalize()} Colormap')\n",
    "#     plt.axis('off')\n",
    "#     plt.show()"
   ]
  },
  {
   "cell_type": "markdown",
   "metadata": {},
   "source": [
    "# Task"
   ]
  },
  {
   "cell_type": "markdown",
   "metadata": {},
   "source": [
    "##### `base_folder_path, output_folder, test_imges(이미지 경로)` 입력 필요"
   ]
  },
  {
   "cell_type": "code",
   "execution_count": 117,
   "metadata": {},
   "outputs": [],
   "source": [
    "import os\n",
    "from PIL import Image\n",
    "import numpy as np\n",
    "import matplotlib.pyplot as plt\n",
    "from tqdm import tqdm\n",
    "import random\n",
    "import shutil\n",
    "import pickle"
   ]
  },
  {
   "cell_type": "code",
   "execution_count": 127,
   "metadata": {},
   "outputs": [
    {
     "name": "stdout",
     "output_type": "stream",
     "text": [
      "현재 경로: d:\\알파코\\0227\n",
      "원본 이미지 경로: D:\\알파코\\SCHP\\Seg_Inspect\\seg_crop\n",
      "결과 이미지 저장 경로: d:\\알파코\\0227\\one_hot_img_array\n",
      "전체 872장 중 10장 적용\n"
     ]
    }
   ],
   "source": [
    "base_folder_path = r'D:\\알파코\\SCHP\\Seg_Inspect\\seg_crop'\n",
    "\n",
    "base_folder_path = base_folder_path\n",
    "angles = os.listdir(base_folder_path) # 1 ~ 32\n",
    "angle_1_path = os.path.join(base_folder_path, angles[0]) # 'D:\\\\알파코\\\\SCHP\\\\Seg_Inspect\\\\seg_crop\\\\01\n",
    "test_seg_path = create_images_path(angle_1_path) # 872개\n",
    "test_imges = test_seg_path[:10] # 10개만 사용\n",
    "\n",
    "output_folder = os.path.join(os.getcwd(), 'one_hot_img_array')\n",
    "\n",
    "print(f'현재 경로: {os.getcwd()}')\n",
    "print(f'원본 이미지 경로: {base_folder_path}')\n",
    "print(f'결과 이미지 저장 경로: {output_folder}')\n",
    "print(f'전체 {len(test_seg_path)}장 중 {len(test_imges)}장 적용')"
   ]
  },
  {
   "cell_type": "code",
   "execution_count": 143,
   "metadata": {},
   "outputs": [
    {
     "data": {
      "text/plain": [
       "['D:\\\\알파코\\\\SCHP\\\\Seg_Inspect\\\\seg_crop\\\\01\\\\01_00_F001_01.png',\n",
       " 'D:\\\\알파코\\\\SCHP\\\\Seg_Inspect\\\\seg_crop\\\\01\\\\01_00_F002_01.png',\n",
       " 'D:\\\\알파코\\\\SCHP\\\\Seg_Inspect\\\\seg_crop\\\\01\\\\01_00_F003_01.png',\n",
       " 'D:\\\\알파코\\\\SCHP\\\\Seg_Inspect\\\\seg_crop\\\\01\\\\01_00_M002_01.png',\n",
       " 'D:\\\\알파코\\\\SCHP\\\\Seg_Inspect\\\\seg_crop\\\\01\\\\01_01_F001_01.png',\n",
       " 'D:\\\\알파코\\\\SCHP\\\\Seg_Inspect\\\\seg_crop\\\\01\\\\01_01_F002_01.png',\n",
       " 'D:\\\\알파코\\\\SCHP\\\\Seg_Inspect\\\\seg_crop\\\\01\\\\01_01_F003_01.png',\n",
       " 'D:\\\\알파코\\\\SCHP\\\\Seg_Inspect\\\\seg_crop\\\\01\\\\01_01_F004_01.png',\n",
       " 'D:\\\\알파코\\\\SCHP\\\\Seg_Inspect\\\\seg_crop\\\\01\\\\01_01_F017_01.png',\n",
       " 'D:\\\\알파코\\\\SCHP\\\\Seg_Inspect\\\\seg_crop\\\\01\\\\01_01_F018_01.png']"
      ]
     },
     "execution_count": 143,
     "metadata": {},
     "output_type": "execute_result"
    }
   ],
   "source": [
    "test_imges"
   ]
  },
  {
   "cell_type": "code",
   "execution_count": 86,
   "metadata": {},
   "outputs": [],
   "source": [
    "Index2Label = {0: 'Background', \n",
    "               1: 'Head', \n",
    "               2: 'Torso', \n",
    "               3: 'Upper_Arms', \n",
    "               4: 'Lower_Arms', \n",
    "               5: 'Upper_Legs', \n",
    "               6: 'Lower_Legs'}"
   ]
  },
  {
   "cell_type": "code",
   "execution_count": 114,
   "metadata": {},
   "outputs": [],
   "source": [
    "from PIL import Image\n",
    "\n",
    "def save_images2pkl_with_one_hot_encoding(images_paths, output_folder_path, num_classes=7, imge_info=True, visualize=False):\n",
    "    \"\"\"\n",
    "    이미지를 원핫인코딩하여 새로운 폴더에 저장하는 함수\n",
    "\n",
    "    Args:\n",
    "    images_paths (list): 이미지 파일 경로의 리스트\n",
    "    output_folder_path (str): 이미지를 저장할 폴더 이름(현재 경로에 저장)\n",
    "    num_classes (int): segmentation 세그멘테이션 클래스 개수(배경 포함)\n",
    "    imge_info (bool): 이미지 정보 출력 토글(default: True)\n",
    "    visualize (bool): 이미지 시각화 토글(default: False)\n",
    "\n",
    "    Returns:\n",
    "    None\n",
    "    \"\"\"\n",
    "    # 새로운 폴더 생성\n",
    "    os.makedirs(output_folder_path, exist_ok=True)\n",
    "\n",
    "    # 이미지 저장\n",
    "    for img_path in tqdm(images_paths, desc='Encoding images'):\n",
    "        # 이미지 파일 이름 추출\n",
    "        image_name = os.path.basename(img_path)\n",
    "        \n",
    "        # 팔레트 이미지를 원핫인코딩하여 가져오기\n",
    "        one_hot_encoded_image = palette_to_one_hot(img_path, num_classes=num_classes, imge_info=imge_info, visualize=visualize)\n",
    "        \n",
    "        # 데이터 타입을 np.uint8로 변환\n",
    "        one_hot_encoded_image = one_hot_encoded_image.astype(np.uint8)\n",
    "        \n",
    "        # 저장할 경로 설정\n",
    "        save_path = os.path.join(output_folder_path, f\"{image_name}.png\")\n",
    "        \n",
    "        # 이미지를 PIL 이미지로 변환\n",
    "        pil_image = Image.fromarray(one_hot_encoded_image)\n",
    "        \n",
    "        # 이미지 저장\n",
    "        pil_image.save(save_path)\n"
   ]
  },
  {
   "cell_type": "code",
   "execution_count": 139,
   "metadata": {},
   "outputs": [
    {
     "name": "stderr",
     "output_type": "stream",
     "text": [
      "Encoding images: 100%|██████████| 10/10 [00:10<00:00,  1.08s/it]\n"
     ]
    }
   ],
   "source": [
    "# Apply\n",
    "save_images_pkl_with_one_hot_encoding(test_imges, output_folder, num_classes=7, imge_info=False, visualize=False)"
   ]
  },
  {
   "cell_type": "code",
   "execution_count": 140,
   "metadata": {},
   "outputs": [
    {
     "name": "stdout",
     "output_type": "stream",
     "text": [
      "Number of images: 10\n",
      "Shape of each image: (2940, 1960, 7)\n"
     ]
    }
   ],
   "source": [
    "# 피클 파일 경로\n",
    "pickle_file_path = \"one_hot_img_array/one_hot_encoded_images_array.pkl\"\n",
    "\n",
    "# 피클 파일 불러오기\n",
    "with open(pickle_file_path, 'rb') as f:\n",
    "    one_hot_encoded_images = pickle.load(f)\n",
    "\n",
    "# 저장된 데이터 확인\n",
    "print(\"Number of images:\", len(one_hot_encoded_images))\n",
    "print(\"Shape of each image:\", one_hot_encoded_images[0].shape)"
   ]
  },
  {
   "cell_type": "code",
   "execution_count": 141,
   "metadata": {},
   "outputs": [
    {
     "name": "stdout",
     "output_type": "stream",
     "text": [
      "<class 'list'>\n",
      "<class 'numpy.ndarray'>\n"
     ]
    }
   ],
   "source": [
    "print(type(one_hot_encoded_images))\n",
    "print(type(one_hot_encoded_images[0]))"
   ]
  },
  {
   "cell_type": "code",
   "execution_count": 142,
   "metadata": {},
   "outputs": [
    {
     "name": "stdout",
     "output_type": "stream",
     "text": [
      "Transformed Image Shape: (2940, 1960, 7)\n"
     ]
    },
    {
     "data": {
      "image/png": "[encoded data removed]",
      "text/plain": [
       "<Figure size 800x800 with 1 Axes>"
      ]
     },
     "metadata": {},
     "output_type": "display_data"
    },
    {
     "data": {
      "image/png": "[encoded data removed]",
      "text/plain": [
       "<Figure size 800x800 with 1 Axes>"
      ]
     },
     "metadata": {},
     "output_type": "display_data"
    },
    {
     "data": {
      "image/png": "[encoded data removed]",
      "text/plain": [
       "<Figure size 800x800 with 1 Axes>"
      ]
     },
     "metadata": {},
     "output_type": "display_data"
    },
    {
     "data": {
      "image/png": "[encoded data removed]",
      "text/plain": [
       "<Figure size 800x800 with 1 Axes>"
      ]
     },
     "metadata": {},
     "output_type": "display_data"
    },
    {
     "data": {
      "image/png": "[encoded data removed]",
      "text/plain": [
       "<Figure size 800x800 with 1 Axes>"
      ]
     },
     "metadata": {},
     "output_type": "display_data"
    },
    {
     "data": {
      "image/png": "[encoded data removed]",
      "text/plain": [
       "<Figure size 800x800 with 1 Axes>"
      ]
     },
     "metadata": {},
     "output_type": "display_data"
    },
    {
     "data": {
      "image/png": "[encoded data removed]",
      "text/plain": [
       "<Figure size 800x800 with 1 Axes>"
      ]
     },
     "metadata": {},
     "output_type": "display_data"
    },
    {
     "data": {
      "image/png": "[encoded data removed]",
      "text/plain": [
       "<Figure size 800x800 with 1 Axes>"
      ]
     },
     "metadata": {},
     "output_type": "display_data"
    }
   ],
   "source": [
    "visualize_one_hot_encoded_image(one_hot_encoded_images[0])"
   ]
  },
  {
   "cell_type": "code",
   "execution_count": 160,
   "metadata": {},
   "outputs": [
    {
     "name": "stdout",
     "output_type": "stream",
     "text": [
      "<class 'numpy.ndarray'>\n",
      "(2940, 1960, 7)\n"
     ]
    }
   ],
   "source": [
    "print(type(test_image))\n",
    "print(test_image.shape)"
   ]
  },
  {
   "cell_type": "code",
   "execution_count": 163,
   "metadata": {},
   "outputs": [],
   "source": [
    "import numpy as np\n",
    "from PIL import Image\n",
    "\n",
    "def save_segmentation_result(segmentation_array, filename):\n",
    "    \"\"\"\n",
    "    세그멘테이션 결과를 이미지로 저장하는 함수\n",
    "    Args:\n",
    "    - segmentation_array: 세그멘테이션 결과를 나타내는 넘파이 배열 (세로, 가로, 채널 수)\n",
    "    - filename: 저장할 이미지 파일의 경로 및 이름\n",
    "    \"\"\"\n",
    "    # 넘파이 배열을 PIL 이미지로 변환\n",
    "    segmentation_image = Image.fromarray(segmentation_array)\n",
    "\n",
    "    # 이미지 저장\n",
    "    segmentation_image.save(filename)\n",
    "    print(f\"세그멘테이션 결과를 이미지로 저장했습니다: {filename}\")\n",
    "\n",
    "def load_segmentation_result(filename):\n",
    "    \"\"\"\n",
    "    저장된 세그멘테이션 이미지를 불러와서 넘파이 배열로 변환하는 함수\n",
    "    Args:\n",
    "    - filename: 불러올 이미지 파일의 경로 및 이름\n",
    "    Returns:\n",
    "    - segmentation_array: 세그멘테이션 결과를 나타내는 넘파이 배열 (세로, 가로, 채널 수)\n",
    "    \"\"\"\n",
    "    # 이미지 불러오기\n",
    "    segmentation_image = Image.open(filename)\n",
    "\n",
    "    # 이미지를 넘파이 배열로 변환\n",
    "    segmentation_array = np.array(segmentation_image)\n",
    "\n",
    "    print(f\"세그멘테이션 이미지를 불러왔습니다: {filename}\")\n",
    "    return segmentation_array\n"
   ]
  },
  {
   "cell_type": "code",
   "execution_count": 165,
   "metadata": {},
   "outputs": [
    {
     "name": "stdout",
     "output_type": "stream",
     "text": [
      "세그멘테이션 결과를 이미지로 저장했습니다: segmentation_result.png\n"
     ]
    }
   ],
   "source": [
    "import numpy as np\n",
    "from PIL import Image\n",
    "\n",
    "def save_segmentation_result(segmentation_array, filename):\n",
    "    \"\"\"\n",
    "    세그멘테이션 결과를 이미지 파일로 저장하는 함수\n",
    "    Args:\n",
    "    - segmentation_array: 세그멘테이션 결과를 나타내는 넘파이 배열 (세로, 가로, 채널 수)\n",
    "    - filename: 저장할 이미지 파일의 경로 및 이름\n",
    "    \"\"\"\n",
    "    # 넘파이 배열의 채널 수가 7이고 데이터 타입이 uint8인 경우에만 처리 가능\n",
    "    if segmentation_array.shape[2] != 7 or segmentation_array.dtype != np.uint8:\n",
    "        raise ValueError(\"세그멘테이션 결과의 형태가 잘못되었습니다.\")\n",
    "\n",
    "    # 세그멘테이션 결과를 RGB 이미지로 변환\n",
    "    segmentation_rgb = segmentation_array[..., :3]  # 처음 3개 채널을 사용하여 RGB 이미지로 변환\n",
    "    segmentation_image = Image.fromarray(segmentation_rgb)\n",
    "\n",
    "    # 이미지 저장\n",
    "    segmentation_image.save(filename)\n",
    "    print(f\"세그멘테이션 결과를 이미지로 저장했습니다: {filename}\")\n",
    "\n",
    "# 세그멘테이션 결과 넘파이 배열 생성 예시\n",
    "segmentation_array = np.random.randint(0, 255, size=(2940, 1960, 7), dtype=np.uint8)\n",
    "\n",
    "# 세그멘테이션 결과를 이미지로 저장\n",
    "save_segmentation_result(segmentation_array, \"segmentation_result.png\")\n"
   ]
  },
  {
   "cell_type": "code",
   "execution_count": 166,
   "metadata": {},
   "outputs": [
    {
     "name": "stdout",
     "output_type": "stream",
     "text": [
      "세그멘테이션 이미지를 불러왔습니다: segmentation_result.png\n",
      "로드된 세그멘테이션 이미지의 크기: (1960, 2940)\n"
     ]
    }
   ],
   "source": [
    "from PIL import Image\n",
    "\n",
    "def load_segmentation_result(filename):\n",
    "    \"\"\"\n",
    "    저장된 세그멘테이션 이미지를 불러오는 함수\n",
    "    Args:\n",
    "    - filename: 불러올 이미지 파일의 경로 및 이름\n",
    "    Returns:\n",
    "    - segmentation_image: 세그멘테이션 결과를 나타내는 PIL 이미지\n",
    "    \"\"\"\n",
    "    # 이미지 불러오기\n",
    "    segmentation_image = Image.open(filename)\n",
    "\n",
    "    print(f\"세그멘테이션 이미지를 불러왔습니다: {filename}\")\n",
    "    return segmentation_image\n",
    "\n",
    "# 저장된 세그멘테이션 이미지를 불러오기\n",
    "loaded_segmentation_image = load_segmentation_result(\"segmentation_result.png\")\n",
    "\n",
    "# 로드된 세그멘테이션 이미지를 확인\n",
    "print(\"로드된 세그멘테이션 이미지의 크기:\", loaded_segmentation_image.size)\n"
   ]
  },
  {
   "cell_type": "code",
   "execution_count": 169,
   "metadata": {},
   "outputs": [
    {
     "data": {
      "text/plain": [
       "(2940, 1960, 3)"
      ]
     },
     "execution_count": 169,
     "metadata": {},
     "output_type": "execute_result"
    }
   ],
   "source": [
    "np.array(loaded_segmentation_image).shape"
   ]
  },
  {
   "cell_type": "markdown",
   "metadata": {},
   "source": [
    "# Task 2. (02.28)"
   ]
  },
  {
   "cell_type": "code",
   "execution_count": null,
   "metadata": {},
   "outputs": [],
   "source": [
    "import os\n",
    "from PIL import Image\n",
    "import numpy as np\n",
    "import matplotlib.pyplot as plt\n",
    "from tqdm import tqdm\n",
    "import random\n",
    "import shutil\n",
    "import pickle"
   ]
  },
  {
   "cell_type": "code",
   "execution_count": 187,
   "metadata": {},
   "outputs": [],
   "source": [
    "# 각도를 이름으로 저장하기 위한 함수 수정\n",
    "\n",
    "def ANGLE_save_images_pkl_with_one_hot_encoding(images_paths, output_folder_path, num_classes=7, imge_info=True, visualize=False):\n",
    "    \"\"\"\n",
    "    이미지를 원핫인코딩하여 새로운 폴더에 저장하는 함수\n",
    "\n",
    "    Args:\n",
    "    images_paths (list): 이미지 파일 경로의 리스트\n",
    "    output_folder_path (str): 이미지를 저장할 폴더 이름(현재 경로에 저장)\n",
    "    num_classes (int): segmentation 세그멘테이션 클래스 개수(배경 포함)\n",
    "    imge_info (bool): 이미지 정보 출력 토글(default: True)\n",
    "    visualize (bool): 이미지 시각화 토글(default: False)\n",
    "\n",
    "    Returns:\n",
    "    None\n",
    "    \"\"\"\n",
    "    # 새로운 폴더 생성\n",
    "    os.makedirs(output_folder_path, exist_ok=True)\n",
    "    \n",
    "    # one_hot_encoded_images\n",
    "    one_hot_encoded_images = []\n",
    "\n",
    "    # 원핫 인코딩 수행\n",
    "    for img_path in tqdm(images_paths, desc='Encoding images'):\n",
    "        \n",
    "        # PIL Pallete 2 Numpy\n",
    "        one_hot_encoded_image = palette_to_one_hot(img_path, num_classes=num_classes, imge_info=imge_info, visualize=visualize)\n",
    "        one_hot_encoded_images.append(one_hot_encoded_image)\n",
    "        \n",
    "    # 저장할 경로 설정\n",
    "    save_path = os.path.join(output_folder_path, f\"one_hot_encoded_images_array_{ang}.pkl\") \n",
    "        \n",
    "    # 이미지 데이터를 피클로 저장\n",
    "    with open(save_path, 'wb') as f:\n",
    "        pickle.dump(one_hot_encoded_images, f)"
   ]
  },
  {
   "cell_type": "code",
   "execution_count": null,
   "metadata": {},
   "outputs": [],
   "source": [
    "print('sdfa\\n')\n",
    "print('sf')"
   ]
  },
  {
   "cell_type": "code",
   "execution_count": 188,
   "metadata": {},
   "outputs": [
    {
     "name": "stderr",
     "output_type": "stream",
     "text": [
      "Encoding images:   0%|          | 0/872 [00:00<?, ?it/s]"
     ]
    },
    {
     "name": "stderr",
     "output_type": "stream",
     "text": [
      "Encoding images: 100%|██████████| 872/872 [16:11<00:00,  1.11s/it]\n"
     ]
    },
    {
     "ename": "MemoryError",
     "evalue": "",
     "output_type": "error",
     "traceback": [
      "\u001b[1;31m---------------------------------------------------------------------------\u001b[0m",
      "\u001b[1;31mMemoryError\u001b[0m                               Traceback (most recent call last)",
      "Cell \u001b[1;32mIn[188], line 13\u001b[0m\n\u001b[0;32m      9\u001b[0m angle_path \u001b[38;5;241m=\u001b[39m os\u001b[38;5;241m.\u001b[39mpath\u001b[38;5;241m.\u001b[39mjoin(base_folder_path, ang) \u001b[38;5;66;03m# 1~32\u001b[39;00m\n\u001b[0;32m     10\u001b[0m angle_imges_path \u001b[38;5;241m=\u001b[39m create_images_path(angle_path) \u001b[38;5;66;03m# 각도별 촬영 이미지\u001b[39;00m\n\u001b[1;32m---> 13\u001b[0m \u001b[43mANGLE_save_images_pkl_with_one_hot_encoding\u001b[49m\u001b[43m(\u001b[49m\u001b[43mangle_imges_path\u001b[49m\u001b[43m,\u001b[49m\n\u001b[0;32m     14\u001b[0m \u001b[43m                                            \u001b[49m\u001b[43moutput_folder_path\u001b[49m\u001b[43m,\u001b[49m\u001b[43m  \u001b[49m\n\u001b[0;32m     15\u001b[0m \u001b[43m                                            \u001b[49m\u001b[43mnum_classes\u001b[49m\u001b[38;5;241;43m=\u001b[39;49m\u001b[38;5;241;43m7\u001b[39;49m\u001b[43m,\u001b[49m\u001b[43m \u001b[49m\n\u001b[0;32m     16\u001b[0m \u001b[43m                                            \u001b[49m\u001b[43mimge_info\u001b[49m\u001b[38;5;241;43m=\u001b[39;49m\u001b[38;5;28;43;01mFalse\u001b[39;49;00m\u001b[43m,\u001b[49m\u001b[43m \u001b[49m\n\u001b[0;32m     17\u001b[0m \u001b[43m                                            \u001b[49m\u001b[43mvisualize\u001b[49m\u001b[38;5;241;43m=\u001b[39;49m\u001b[38;5;28;43;01mFalse\u001b[39;49;00m\u001b[43m)\u001b[49m\n\u001b[0;32m     19\u001b[0m \u001b[38;5;28;01mbreak\u001b[39;00m\n",
      "Cell \u001b[1;32mIn[187], line 35\u001b[0m, in \u001b[0;36mANGLE_save_images_pkl_with_one_hot_encoding\u001b[1;34m(images_paths, output_folder_path, num_classes, imge_info, visualize)\u001b[0m\n\u001b[0;32m     33\u001b[0m \u001b[38;5;66;03m# 이미지 데이터를 피클로 저장\u001b[39;00m\n\u001b[0;32m     34\u001b[0m \u001b[38;5;28;01mwith\u001b[39;00m \u001b[38;5;28mopen\u001b[39m(save_path, \u001b[38;5;124m'\u001b[39m\u001b[38;5;124mwb\u001b[39m\u001b[38;5;124m'\u001b[39m) \u001b[38;5;28;01mas\u001b[39;00m f:\n\u001b[1;32m---> 35\u001b[0m     \u001b[43mpickle\u001b[49m\u001b[38;5;241;43m.\u001b[39;49m\u001b[43mdump\u001b[49m\u001b[43m(\u001b[49m\u001b[43mone_hot_encoded_images\u001b[49m\u001b[43m,\u001b[49m\u001b[43m \u001b[49m\u001b[43mf\u001b[49m\u001b[43m)\u001b[49m\n",
      "\u001b[1;31mMemoryError\u001b[0m: "
     ]
    }
   ],
   "source": [
    "base_folder_path = r\"D:\\알파코\\SCHP\\Seg_Inspect\\seg_crop\"\n",
    "output_folder_path = 'one_hpt_encoded_array_pkls'\n",
    "\n",
    "os.makedirs(output_folder_path, exist_ok=True)\n",
    "\n",
    "angles = os.listdir(base_folder_path)\n",
    "\n",
    "for ang in angles:\n",
    "    angle_path = os.path.join(base_folder_path, ang) # 1~32\n",
    "    angle_imges_path = create_images_path(angle_path) # 각도별 촬영 이미지\n",
    "    \n",
    "    print(f'Angle {ang} is processing.\\n')\n",
    "    \n",
    "    ANGLE_save_images_pkl_with_one_hot_encoding(angle_imges_path,\n",
    "                                                output_folder_path,  \n",
    "                                                num_classes=7, \n",
    "                                                imge_info=False, \n",
    "                                                visualize=False)\n",
    "    print(f'Angle {ang} is successly processed./n')\n",
    "    \n",
    "    break\n"
   ]
  },
  {
   "cell_type": "code",
   "execution_count": null,
   "metadata": {},
   "outputs": [],
   "source": []
  },
  {
   "cell_type": "code",
   "execution_count": 198,
   "metadata": {},
   "outputs": [],
   "source": [
    "def palette_to_one_hot(palette_image_path, num_classes=7, imge_info=True, visualize=True):\n",
    "    \"\"\"\n",
    "    팔레트 이미지를 원핫인코딩하여 (2940, 1960, 7) 형태의 이미지로 변환하는 함수\n",
    "\n",
    "    Args:\n",
    "    palette_image_path (str): 세그멘테이션된 P 모드의 PIL 팔레트 이미지 경로\n",
    "\n",
    "    Returns:\n",
    "    np.ndarray: 원핫인코딩된 이미지\n",
    "    \"\"\"\n",
    "    # 클래스 수 정의 (배경 포함 1개)\n",
    "    num_classes = num_classes\n",
    "\n",
    "    # PIL 2 Numpy\n",
    "    palette_image = Image.open(palette_image_path)\n",
    "    palette_image_array = np.array(palette_image)\n",
    "\n",
    "    # 원핫인코딩된 이미지를 저장할 배열 생성\n",
    "    one_hot_encoded_image = np.zeros((*palette_image_array.shape, num_classes), dtype=np.uint8)\n",
    "\n",
    "    # 각 픽셀을 원핫인코딩된 형태로 변환\n",
    "    for i in range(palette_image_array.shape[0]): # 2940\n",
    "        for j in range(palette_image_array.shape[1]): # 1960\n",
    "            pixel_value = palette_image_array[i, j]  # 현재 픽셀의 값\n",
    "            one_hot_encoded_image[i, j, pixel_value] = 1  # 해당 클래스에 대응하는 채널에 1 할당\n",
    "\n",
    "    if imge_info:\n",
    "        # 이미지 이름 출력\n",
    "        image_name = os.path.basename(palette_image_path)\n",
    "        print(\"Image Name:\", image_name)\n",
    "        print(\"Original Image Shape:\", palette_image_array.shape)\n",
    "        print(\"Transformed Image Shape:\", one_hot_encoded_image.shape)\n",
    "        print()\n",
    "        \n",
    "    if visualize:\n",
    "        visualize_one_hot_encoded_image(one_hot_encoded_image,  Index2Label=Index2Label)\n",
    "        \n",
    "    return one_hot_encoded_image"
   ]
  },
  {
   "cell_type": "code",
   "execution_count": 199,
   "metadata": {},
   "outputs": [
    {
     "name": "stdout",
     "output_type": "stream",
     "text": [
      "Angle 01 is processing.\n",
      "\n"
     ]
    }
   ],
   "source": [
    "base_folder_path = r\"D:\\알파코\\SCHP\\Seg_Inspect\\seg_crop\"\n",
    "# output_folder_path = 'one_hpt_encoded_array_pkls'\n",
    "# os.makedirs(output_folder_path, exist_ok=True)\n",
    "\n",
    "angles = os.listdir(base_folder_path)\n",
    "\n",
    "total_images = []\n",
    "\n",
    "for ang in angles:\n",
    "    print(f'Angle {ang} is processing.\\n')  \n",
    "    angle_path = os.path.join(base_folder_path, ang) # 1~32\n",
    "    angle_imges_path = create_images_path(angle_path) # 각도별 촬영 이미지\n",
    "    \n",
    "    angle_images = []\n",
    "    \n",
    "    for image in angle_imges_path:\n",
    "        encoded_image = palette_to_one_hot(image, num_classes=7, imge_info=False, visualize=False)\n",
    "        angle_images.append(encoded_image)\n",
    "        \n",
    "    total_images.append(angle_images)\n",
    "    \n",
    "    print(f'Angle {ang} is successly processed./n')\n",
    "   \n",
    "   \n",
    "    print(len(total_images))\n",
    "    print(len(angle_images))\n",
    "   \n",
    "    break\n"
   ]
  }
 ],
 "metadata": {
  "kernelspec": {
   "display_name": "TF_GPU_RTX",
   "language": "python",
   "name": "python3"
  },
  "language_info": {
   "codemirror_mode": {
    "name": "ipython",
    "version": 3
   },
   "file_extension": ".py",
   "mimetype": "text/x-python",
   "name": "python",
   "nbconvert_exporter": "python",
   "pygments_lexer": "ipython3",
   "version": "3.8.18"
  }
 },
 "nbformat": 4,
 "nbformat_minor": 2
}
